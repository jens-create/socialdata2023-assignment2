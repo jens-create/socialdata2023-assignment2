{
 "cells": [
  {
   "attachments": {},
   "cell_type": "markdown",
   "metadata": {},
   "source": [
    "# Assignment 2 - Plots\n",
    "\n",
    "In this notebook you can find the code generating the plots on the website. "
   ]
  },
  {
   "attachments": {},
   "cell_type": "markdown",
   "metadata": {},
   "source": [
    "### Content\n",
    "\n",
    "1. [Preparing data](#part1)\n",
    "2. [Time-series plot](#part2)  \n",
    "3. [Map plot](#part3)  \n",
    "4. [Bokeh plot](#part4)  "
   ]
  },
  {
   "attachments": {},
   "cell_type": "markdown",
   "metadata": {},
   "source": [
    "## Let's load all relevant packages"
   ]
  },
  {
   "cell_type": "code",
   "execution_count": 1,
   "metadata": {},
   "outputs": [
    {
     "data": {
      "text/html": [
       "\n",
       "    <div class=\"bk-root\">\n",
       "        <a href=\"https://bokeh.org\" target=\"_blank\" class=\"bk-logo bk-logo-small bk-logo-notebook\"></a>\n",
       "        <span id=\"1002\">Loading BokehJS ...</span>\n",
       "    </div>"
      ]
     },
     "metadata": {},
     "output_type": "display_data"
    },
    {
     "data": {
      "application/javascript": "\n(function(root) {\n  function now() {\n    return new Date();\n  }\n\n  const force = true;\n\n  if (typeof root._bokeh_onload_callbacks === \"undefined\" || force === true) {\n    root._bokeh_onload_callbacks = [];\n    root._bokeh_is_loading = undefined;\n  }\n\n  const JS_MIME_TYPE = 'application/javascript';\n  const HTML_MIME_TYPE = 'text/html';\n  const EXEC_MIME_TYPE = 'application/vnd.bokehjs_exec.v0+json';\n  const CLASS_NAME = 'output_bokeh rendered_html';\n\n  /**\n   * Render data to the DOM node\n   */\n  function render(props, node) {\n    const script = document.createElement(\"script\");\n    node.appendChild(script);\n  }\n\n  /**\n   * Handle when an output is cleared or removed\n   */\n  function handleClearOutput(event, handle) {\n    const cell = handle.cell;\n\n    const id = cell.output_area._bokeh_element_id;\n    const server_id = cell.output_area._bokeh_server_id;\n    // Clean up Bokeh references\n    if (id != null && id in Bokeh.index) {\n      Bokeh.index[id].model.document.clear();\n      delete Bokeh.index[id];\n    }\n\n    if (server_id !== undefined) {\n      // Clean up Bokeh references\n      const cmd_clean = \"from bokeh.io.state import curstate; print(curstate().uuid_to_server['\" + server_id + \"'].get_sessions()[0].document.roots[0]._id)\";\n      cell.notebook.kernel.execute(cmd_clean, {\n        iopub: {\n          output: function(msg) {\n            const id = msg.content.text.trim();\n            if (id in Bokeh.index) {\n              Bokeh.index[id].model.document.clear();\n              delete Bokeh.index[id];\n            }\n          }\n        }\n      });\n      // Destroy server and session\n      const cmd_destroy = \"import bokeh.io.notebook as ion; ion.destroy_server('\" + server_id + \"')\";\n      cell.notebook.kernel.execute(cmd_destroy);\n    }\n  }\n\n  /**\n   * Handle when a new output is added\n   */\n  function handleAddOutput(event, handle) {\n    const output_area = handle.output_area;\n    const output = handle.output;\n\n    // limit handleAddOutput to display_data with EXEC_MIME_TYPE content only\n    if ((output.output_type != \"display_data\") || (!Object.prototype.hasOwnProperty.call(output.data, EXEC_MIME_TYPE))) {\n      return\n    }\n\n    const toinsert = output_area.element.find(\".\" + CLASS_NAME.split(' ')[0]);\n\n    if (output.metadata[EXEC_MIME_TYPE][\"id\"] !== undefined) {\n      toinsert[toinsert.length - 1].firstChild.textContent = output.data[JS_MIME_TYPE];\n      // store reference to embed id on output_area\n      output_area._bokeh_element_id = output.metadata[EXEC_MIME_TYPE][\"id\"];\n    }\n    if (output.metadata[EXEC_MIME_TYPE][\"server_id\"] !== undefined) {\n      const bk_div = document.createElement(\"div\");\n      bk_div.innerHTML = output.data[HTML_MIME_TYPE];\n      const script_attrs = bk_div.children[0].attributes;\n      for (let i = 0; i < script_attrs.length; i++) {\n        toinsert[toinsert.length - 1].firstChild.setAttribute(script_attrs[i].name, script_attrs[i].value);\n        toinsert[toinsert.length - 1].firstChild.textContent = bk_div.children[0].textContent\n      }\n      // store reference to server id on output_area\n      output_area._bokeh_server_id = output.metadata[EXEC_MIME_TYPE][\"server_id\"];\n    }\n  }\n\n  function register_renderer(events, OutputArea) {\n\n    function append_mime(data, metadata, element) {\n      // create a DOM node to render to\n      const toinsert = this.create_output_subarea(\n        metadata,\n        CLASS_NAME,\n        EXEC_MIME_TYPE\n      );\n      this.keyboard_manager.register_events(toinsert);\n      // Render to node\n      const props = {data: data, metadata: metadata[EXEC_MIME_TYPE]};\n      render(props, toinsert[toinsert.length - 1]);\n      element.append(toinsert);\n      return toinsert\n    }\n\n    /* Handle when an output is cleared or removed */\n    events.on('clear_output.CodeCell', handleClearOutput);\n    events.on('delete.Cell', handleClearOutput);\n\n    /* Handle when a new output is added */\n    events.on('output_added.OutputArea', handleAddOutput);\n\n    /**\n     * Register the mime type and append_mime function with output_area\n     */\n    OutputArea.prototype.register_mime_type(EXEC_MIME_TYPE, append_mime, {\n      /* Is output safe? */\n      safe: true,\n      /* Index of renderer in `output_area.display_order` */\n      index: 0\n    });\n  }\n\n  // register the mime type if in Jupyter Notebook environment and previously unregistered\n  if (root.Jupyter !== undefined) {\n    const events = require('base/js/events');\n    const OutputArea = require('notebook/js/outputarea').OutputArea;\n\n    if (OutputArea.prototype.mime_types().indexOf(EXEC_MIME_TYPE) == -1) {\n      register_renderer(events, OutputArea);\n    }\n  }\n\n  \n  if (typeof (root._bokeh_timeout) === \"undefined\" || force === true) {\n    root._bokeh_timeout = Date.now() + 5000;\n    root._bokeh_failed_load = false;\n  }\n\n  const NB_LOAD_WARNING = {'data': {'text/html':\n     \"<div style='background-color: #fdd'>\\n\"+\n     \"<p>\\n\"+\n     \"BokehJS does not appear to have successfully loaded. If loading BokehJS from CDN, this \\n\"+\n     \"may be due to a slow or bad network connection. Possible fixes:\\n\"+\n     \"</p>\\n\"+\n     \"<ul>\\n\"+\n     \"<li>re-rerun `output_notebook()` to attempt to load from CDN again, or</li>\\n\"+\n     \"<li>use INLINE resources instead, as so:</li>\\n\"+\n     \"</ul>\\n\"+\n     \"<code>\\n\"+\n     \"from bokeh.resources import INLINE\\n\"+\n     \"output_notebook(resources=INLINE)\\n\"+\n     \"</code>\\n\"+\n     \"</div>\"}};\n\n  function display_loaded() {\n    const el = document.getElementById(\"1002\");\n    if (el != null) {\n      el.textContent = \"BokehJS is loading...\";\n    }\n    if (root.Bokeh !== undefined) {\n      if (el != null) {\n        el.textContent = \"BokehJS \" + root.Bokeh.version + \" successfully loaded.\";\n      }\n    } else if (Date.now() < root._bokeh_timeout) {\n      setTimeout(display_loaded, 100)\n    }\n  }\n\n\n  function run_callbacks() {\n    try {\n      root._bokeh_onload_callbacks.forEach(function(callback) {\n        if (callback != null)\n          callback();\n      });\n    } finally {\n      delete root._bokeh_onload_callbacks\n    }\n    console.debug(\"Bokeh: all callbacks have finished\");\n  }\n\n  function load_libs(css_urls, js_urls, callback) {\n    if (css_urls == null) css_urls = [];\n    if (js_urls == null) js_urls = [];\n\n    root._bokeh_onload_callbacks.push(callback);\n    if (root._bokeh_is_loading > 0) {\n      console.debug(\"Bokeh: BokehJS is being loaded, scheduling callback at\", now());\n      return null;\n    }\n    if (js_urls == null || js_urls.length === 0) {\n      run_callbacks();\n      return null;\n    }\n    console.debug(\"Bokeh: BokehJS not loaded, scheduling load and callback at\", now());\n    root._bokeh_is_loading = css_urls.length + js_urls.length;\n\n    function on_load() {\n      root._bokeh_is_loading--;\n      if (root._bokeh_is_loading === 0) {\n        console.debug(\"Bokeh: all BokehJS libraries/stylesheets loaded\");\n        run_callbacks()\n      }\n    }\n\n    function on_error(url) {\n      console.error(\"failed to load \" + url);\n    }\n\n    for (let i = 0; i < css_urls.length; i++) {\n      const url = css_urls[i];\n      const element = document.createElement(\"link\");\n      element.onload = on_load;\n      element.onerror = on_error.bind(null, url);\n      element.rel = \"stylesheet\";\n      element.type = \"text/css\";\n      element.href = url;\n      console.debug(\"Bokeh: injecting link tag for BokehJS stylesheet: \", url);\n      document.body.appendChild(element);\n    }\n\n    for (let i = 0; i < js_urls.length; i++) {\n      const url = js_urls[i];\n      const element = document.createElement('script');\n      element.onload = on_load;\n      element.onerror = on_error.bind(null, url);\n      element.async = false;\n      element.src = url;\n      console.debug(\"Bokeh: injecting script tag for BokehJS library: \", url);\n      document.head.appendChild(element);\n    }\n  };\n\n  function inject_raw_css(css) {\n    const element = document.createElement(\"style\");\n    element.appendChild(document.createTextNode(css));\n    document.body.appendChild(element);\n  }\n\n  \n  const js_urls = [\"https://cdn.bokeh.org/bokeh/release/bokeh-2.4.2.min.js\", \"https://cdn.bokeh.org/bokeh/release/bokeh-gl-2.4.2.min.js\", \"https://cdn.bokeh.org/bokeh/release/bokeh-widgets-2.4.2.min.js\", \"https://cdn.bokeh.org/bokeh/release/bokeh-tables-2.4.2.min.js\", \"https://cdn.bokeh.org/bokeh/release/bokeh-mathjax-2.4.2.min.js\"];\n  const css_urls = [];\n  \n\n  const inline_js = [\n    function(Bokeh) {\n      Bokeh.set_log_level(\"info\");\n    },\n    function(Bokeh) {\n    \n    \n    }\n  ];\n\n  function run_inline_js() {\n    \n    if (root.Bokeh !== undefined || force === true) {\n      \n    for (let i = 0; i < inline_js.length; i++) {\n      inline_js[i].call(root, root.Bokeh);\n    }\n    if (force === true) {\n        display_loaded();\n      }} else if (Date.now() < root._bokeh_timeout) {\n      setTimeout(run_inline_js, 100);\n    } else if (!root._bokeh_failed_load) {\n      console.log(\"Bokeh: BokehJS failed to load within specified timeout.\");\n      root._bokeh_failed_load = true;\n    } else if (force !== true) {\n      const cell = $(document.getElementById(\"1002\")).parents('.cell').data().cell;\n      cell.output_area.append_execute_result(NB_LOAD_WARNING)\n    }\n\n  }\n\n  if (root._bokeh_is_loading === 0) {\n    console.debug(\"Bokeh: BokehJS loaded, going straight to plotting\");\n    run_inline_js();\n  } else {\n    load_libs(css_urls, js_urls, function() {\n      console.debug(\"Bokeh: BokehJS plotting callback run at\", now());\n      run_inline_js();\n    });\n  }\n}(window));",
      "application/vnd.bokehjs_load.v0+json": ""
     },
     "metadata": {},
     "output_type": "display_data"
    }
   ],
   "source": [
    "import pandas as pd\n",
    "import seaborn as sns\n",
    "import numpy as np\n",
    "import matplotlib.pyplot as plt\n",
    "from bokeh.models import ColumnDataSource, FactorRange, Legend\n",
    "from bokeh.palettes import Category20\n",
    "from bokeh.plotting import figure, show, save, output_file\n",
    "from plotly.subplots import make_subplots\n",
    "import plotly.graph_objects as go\n",
    "import folium\n",
    "from folium import plugins\n",
    "from folium.plugins import HeatMap\n",
    "import plotly.io as pio\n",
    "from bokeh.io import output_notebook, show\n",
    "output_notebook()\n",
    "import bokeh\n",
    "from bokeh.models.widgets import Panel, Tabs\n",
    "from bokeh.io import output_file, show\n",
    "from bokeh.plotting import figure\n",
    "from bokeh.models import SingleIntervalTicker, LinearAxis\n",
    "from bokeh.models import ColumnDataSource, FactorRange, Legend, HoverTool, GeoJSONDataSource, \\\n",
    "                        LinearColorMapper, ColorBar, NumeralTickFormatter, Div, Select, TableColumn, \\\n",
    "                        DataTable, CheckboxGroup, Tabs, Panel, CheckboxButtonGroup, RadioButtonGroup, \\\n",
    "                        Label, LabelSet, Range1d\n",
    "from bokeh.palettes import Viridis\n",
    "\n",
    "pio.renderers.default='notebook'\n",
    "\n",
    "#set notebook options\n",
    "pd.options.mode.chained_assignment = None \n",
    "pd.set_option('display.max_columns', None)\n",
    "plt.rcParams.update({'font.size': 10})\n",
    "sns.set_style(\"white\")\n",
    "plt_color = 'cadetblue'\n"
   ]
  },
  {
   "attachments": {},
   "cell_type": "markdown",
   "metadata": {},
   "source": [
    "<a id='part1'></a>\n",
    "## Preparing data "
   ]
  },
  {
   "cell_type": "code",
   "execution_count": 2,
   "metadata": {},
   "outputs": [],
   "source": [
    "df = pd.read_csv('Data/Police_Department_Incident_Reports__Historical_2003_to_May_2018.csv') \n",
    "df = df[(pd.to_datetime(df.Date).dt.year < 2018)]\n",
    "\n",
    "# Feature settings - Setting the 'DayOfWeek' coloumn to categorical.\n",
    "df['DayOfWeek'] = pd.Categorical(df.DayOfWeek,\n",
    "                                      categories=['Monday', 'Tuesday', 'Wednesday', 'Thursday','Friday','Saturday','Sunday'],\n",
    "                                      ordered=True)\n",
    "\n",
    "# Creating new coloumns, with timestamp, year, month, hour and HoW (Hour of Week)\n",
    "df['Timestamp'] = pd.to_datetime(df[\"Date\"] + df[\"Time\"], format=\"%m/%d/%Y%H:%M\")\n",
    "df['year'] = df['Timestamp'].dt.year.astype(int)\n",
    "df['Hour'] = df['Timestamp'].dt.hour.astype(int)\n",
    "df['HoW'] = df['Timestamp'].dt.dayofweek * 24 + (df['Timestamp'].dt.hour + 1).astype(int)\n"
   ]
  },
  {
   "cell_type": "code",
   "execution_count": 38,
   "metadata": {},
   "outputs": [],
   "source": [
    "property_crimes = set(['BURGLARY', 'VEHICLE THEFT', 'LARCENY/THEFT', 'VANDALISM'])\n",
    "violent_crimes = set(['SEX OFFENSES, FORCIBLE', 'ASSAULT', 'ROBBERY'])\n",
    "\n",
    "df_property_ori = df[df['Category'].isin(property_crimes)]\n",
    "df_violent_ori = df[df['Category'].isin(violent_crimes)]"
   ]
  },
  {
   "attachments": {},
   "cell_type": "markdown",
   "metadata": {},
   "source": [
    "<a id='part2'></a>\n",
    "## Time-series plot"
   ]
  },
  {
   "cell_type": "code",
   "execution_count": 40,
   "metadata": {},
   "outputs": [],
   "source": [
    "df_property = df_property_ori.pivot_table(index='year', columns='Category', values='PdId', aggfunc='count')\n",
    "df_property = df_property.fillna(0)\n",
    "df_property.reset_index(inplace=True)"
   ]
  },
  {
   "cell_type": "code",
   "execution_count": 41,
   "metadata": {},
   "outputs": [],
   "source": [
    "df_violent = df_violent_ori.pivot_table(index='year', columns='Category', values='PdId', aggfunc='count')\n",
    "df_violent = df_violent.fillna(0)\n",
    "df_violent.reset_index(inplace=True)"
   ]
  },
  {
   "cell_type": "code",
   "execution_count": 68,
   "metadata": {},
   "outputs": [
    {
     "name": "stderr",
     "output_type": "stream",
     "text": [
      "/Users/ceciliekosack/opt/anaconda3/lib/python3.8/site-packages/bokeh/models/plots.py:815: UserWarning:\n",
      "\n",
      "\n",
      "You are attempting to set `plot.legend.label_text_font_size` on a plot that has zero legends added, this will have no effect.\n",
      "\n",
      "Before legend properties can be set, you must add a Legend explicitly, or call a glyph method with a legend parameter set.\n",
      "\n",
      "\n"
     ]
    },
    {
     "data": {
      "text/html": [
       "\n",
       "\n",
       "\n",
       "\n",
       "\n",
       "\n",
       "  <div class=\"bk-root\" id=\"6144fbe2-850f-48e7-aa70-5e17fac691e4\" data-root-id=\"23920\"></div>\n"
      ]
     },
     "metadata": {},
     "output_type": "display_data"
    },
    {
     "data": {
      "application/javascript": "(function(root) {\n  function embed_document(root) {\n    \n  const docs_json = {\"b1a16f23-93e6-4d21-956e-c042a06a393d\":{\"defs\":[],\"roots\":{\"references\":[{\"attributes\":{\"tabs\":[{\"id\":\"23780\"},{\"id\":\"23854\"},{\"id\":\"23900\"}]},\"id\":\"23920\",\"type\":\"Tabs\"},{\"attributes\":{\"source\":{\"id\":\"23763\"}},\"id\":\"23768\",\"type\":\"CDSView\"},{\"attributes\":{},\"id\":\"23713\",\"type\":\"PanTool\"},{\"attributes\":{\"line_alpha\":0.2,\"line_color\":\"#DA70D6\",\"line_width\":3,\"x\":{\"field\":\"x\"},\"y\":{\"field\":\"y\"}},\"id\":\"23823\",\"type\":\"Line\"},{\"attributes\":{},\"id\":\"23714\",\"type\":\"WheelZoomTool\"},{\"attributes\":{\"line_alpha\":0.2,\"line_color\":\"#008080\",\"line_width\":3,\"x\":{\"field\":\"x\"},\"y\":{\"field\":\"y\"}},\"id\":\"23817\",\"type\":\"Line\"},{\"attributes\":{},\"id\":\"24691\",\"type\":\"Selection\"},{\"attributes\":{},\"id\":\"23784\",\"type\":\"DataRange1d\"},{\"attributes\":{},\"id\":\"23718\",\"type\":\"HelpTool\"},{\"attributes\":{\"line_color\":\"#DA70D6\",\"line_width\":3,\"x\":{\"field\":\"x\"},\"y\":{\"field\":\"y\"}},\"id\":\"23821\",\"type\":\"Line\"},{\"attributes\":{\"line_alpha\":0.2,\"line_color\":\"blue\",\"line_width\":3,\"x\":{\"field\":\"x\"},\"y\":{\"field\":\"y\"}},\"id\":\"23772\",\"type\":\"Line\"},{\"attributes\":{\"overlay\":{\"id\":\"23719\"}},\"id\":\"23715\",\"type\":\"BoxZoomTool\"},{\"attributes\":{\"line_alpha\":0.1,\"line_color\":\"#DA70D6\",\"line_width\":3,\"x\":{\"field\":\"x\"},\"y\":{\"field\":\"y\"}},\"id\":\"23822\",\"type\":\"Line\"},{\"attributes\":{},\"id\":\"23716\",\"type\":\"SaveTool\"},{\"attributes\":{\"line_color\":\"#4B0082\",\"line_width\":3,\"x\":{\"field\":\"x\"},\"y\":{\"field\":\"y\"}},\"id\":\"23827\",\"type\":\"Line\"},{\"attributes\":{},\"id\":\"24714\",\"type\":\"UnionRenderers\"},{\"attributes\":{\"tools\":[{\"id\":\"23800\"},{\"id\":\"23801\"},{\"id\":\"23802\"},{\"id\":\"23803\"},{\"id\":\"23804\"},{\"id\":\"23805\"},{\"id\":\"23916\"}]},\"id\":\"23807\",\"type\":\"Toolbar\"},{\"attributes\":{},\"id\":\"23717\",\"type\":\"ResetTool\"},{\"attributes\":{\"source\":{\"id\":\"23820\"}},\"id\":\"23825\",\"type\":\"CDSView\"},{\"attributes\":{\"label\":{\"value\":\"VANDALISM\"},\"renderers\":[{\"id\":\"23755\"}]},\"id\":\"23776\",\"type\":\"LegendItem\"},{\"attributes\":{\"data\":{\"x\":[2003,2004,2005,2006,2007,2008,2009,2010,2011,2012,2013,2014,2015,2016,2017],\"y\":[446,403,423,402,431,485,485,553,560,612,598,702,740,756,875]},\"selected\":{\"id\":\"24704\"},\"selection_policy\":{\"id\":\"24703\"}},\"id\":\"23826\",\"type\":\"ColumnDataSource\"},{\"attributes\":{},\"id\":\"24707\",\"type\":\"UnionRenderers\"},{\"attributes\":{\"label\":{\"value\":\"BURGLARY\"},\"renderers\":[{\"id\":\"23773\"}]},\"id\":\"23779\",\"type\":\"LegendItem\"},{\"attributes\":{\"line_alpha\":0.2,\"line_color\":\"#4B0082\",\"line_width\":3,\"x\":{\"field\":\"x\"},\"y\":{\"field\":\"y\"}},\"id\":\"23829\",\"type\":\"Line\"},{\"attributes\":{},\"id\":\"24715\",\"type\":\"Selection\"},{\"attributes\":{\"coordinates\":null,\"group\":null,\"items\":[{\"id\":\"23851\"},{\"id\":\"23852\"},{\"id\":\"23853\"}],\"label_text_font_size\":\"8pt\",\"location\":[0,0]},\"id\":\"23850\",\"type\":\"Legend\"},{\"attributes\":{\"bottom_units\":\"screen\",\"coordinates\":null,\"fill_alpha\":0.5,\"fill_color\":\"lightgrey\",\"group\":null,\"left_units\":\"screen\",\"level\":\"overlay\",\"line_alpha\":1.0,\"line_color\":\"black\",\"line_dash\":[4,4],\"line_width\":2,\"right_units\":\"screen\",\"syncable\":false,\"top_units\":\"screen\"},\"id\":\"23719\",\"type\":\"BoxAnnotation\"},{\"attributes\":{\"source\":{\"id\":\"23769\"}},\"id\":\"23774\",\"type\":\"CDSView\"},{\"attributes\":{\"line_alpha\":0.2,\"line_color\":\"#008080\",\"line_width\":3,\"x\":{\"field\":\"x\"},\"y\":{\"field\":\"y\"}},\"id\":\"23835\",\"type\":\"Line\"},{\"attributes\":{},\"id\":\"24708\",\"type\":\"Selection\"},{\"attributes\":{\"coordinates\":null,\"data_source\":{\"id\":\"23826\"},\"glyph\":{\"id\":\"23827\"},\"group\":null,\"hover_glyph\":null,\"muted_glyph\":{\"id\":\"23829\"},\"nonselection_glyph\":{\"id\":\"23828\"},\"view\":{\"id\":\"23831\"}},\"id\":\"23830\",\"type\":\"GlyphRenderer\"},{\"attributes\":{\"data\":{\"x\":[2003,2004,2005,2006,2007,2008,2009,2010,2011,2012,2013,2014,2015,2016,2017],\"y\":[6377,6427,6963,7599,7452,7234,7510,7743,7077,7704,6833,7102,7636,8557,9719]},\"selected\":{\"id\":\"24691\"},\"selection_policy\":{\"id\":\"24690\"}},\"id\":\"23751\",\"type\":\"ColumnDataSource\"},{\"attributes\":{\"source\":{\"id\":\"23814\"}},\"id\":\"23819\",\"type\":\"CDSView\"},{\"attributes\":{\"line_alpha\":0.1,\"line_color\":\"#4B0082\",\"line_width\":3,\"x\":{\"field\":\"x\"},\"y\":{\"field\":\"y\"}},\"id\":\"23828\",\"type\":\"Line\"},{\"attributes\":{\"coordinates\":null,\"group\":null,\"text\":\"Violent crimes\"},\"id\":\"23782\",\"type\":\"Title\"},{\"attributes\":{\"source\":{\"id\":\"23826\"}},\"id\":\"23831\",\"type\":\"CDSView\"},{\"attributes\":{},\"id\":\"23860\",\"type\":\"DataRange1d\"},{\"attributes\":{\"data\":{\"x\":[2003,2004,2005,2006,2007,2008,2009,2010,2011,2012,2013,2014,2015,2016,2017],\"y\":[6013,6721,7051,6967,5422,5650,5366,4942,4927,6197,6160,6033,5903,5791,5828]},\"selected\":{\"id\":\"24697\"},\"selection_policy\":{\"id\":\"24696\"}},\"id\":\"23769\",\"type\":\"ColumnDataSource\"},{\"attributes\":{},\"id\":\"23786\",\"type\":\"DataRange1d\"},{\"attributes\":{},\"id\":\"24692\",\"type\":\"UnionRenderers\"},{\"attributes\":{\"label\":{\"value\":\"VEHICLE THEFT\"},\"renderers\":[{\"id\":\"23761\"}]},\"id\":\"23777\",\"type\":\"LegendItem\"},{\"attributes\":{\"source\":{\"id\":\"23832\"}},\"id\":\"23837\",\"type\":\"CDSView\"},{\"attributes\":{\"line_alpha\":0.1,\"line_color\":\"#008080\",\"line_width\":3,\"x\":{\"field\":\"x\"},\"y\":{\"field\":\"y\"}},\"id\":\"23834\",\"type\":\"Line\"},{\"attributes\":{\"line_color\":\"#008080\",\"line_width\":3,\"x\":{\"field\":\"x\"},\"y\":{\"field\":\"y\"}},\"id\":\"23833\",\"type\":\"Line\"},{\"attributes\":{},\"id\":\"24693\",\"type\":\"Selection\"},{\"attributes\":{\"line_color\":\"#DA70D6\",\"line_width\":3,\"x\":{\"field\":\"x\"},\"y\":{\"field\":\"y\"}},\"id\":\"23839\",\"type\":\"Line\"},{\"attributes\":{},\"id\":\"24699\",\"type\":\"UnionRenderers\"},{\"attributes\":{\"line_alpha\":0.1,\"line_color\":\"blue\",\"line_width\":3,\"x\":{\"field\":\"x\"},\"y\":{\"field\":\"y\"}},\"id\":\"23771\",\"type\":\"Line\"},{\"attributes\":{\"label\":{\"value\":\"LARCENY/THEFT\"},\"renderers\":[{\"id\":\"23767\"}]},\"id\":\"23778\",\"type\":\"LegendItem\"},{\"attributes\":{\"data\":{\"x\":[2003,2004,2005,2006,2007,2008,2009,2010,2011,2012,2013,2014,2015,2016,2017],\"y\":[11409,10968,10154,10779,10900,11063,10681,10659,10589,10519,10790,10398,11090,11546,11613]},\"selected\":{\"id\":\"24708\"},\"selection_policy\":{\"id\":\"24707\"}},\"id\":\"23838\",\"type\":\"ColumnDataSource\"},{\"attributes\":{\"line_color\":\"blue\",\"line_width\":3,\"x\":{\"field\":\"x\"},\"y\":{\"field\":\"y\"}},\"id\":\"23770\",\"type\":\"Line\"},{\"attributes\":{\"line_alpha\":0.2,\"line_color\":\"#DA70D6\",\"line_width\":3,\"x\":{\"field\":\"x\"},\"y\":{\"field\":\"y\"}},\"id\":\"23841\",\"type\":\"Line\"},{\"attributes\":{},\"id\":\"24700\",\"type\":\"Selection\"},{\"attributes\":{\"line_color\":\"#4B0082\",\"line_width\":3,\"x\":{\"field\":\"x\"},\"y\":{\"field\":\"y\"}},\"id\":\"23845\",\"type\":\"Line\"},{\"attributes\":{},\"id\":\"24716\",\"type\":\"UnionRenderers\"},{\"attributes\":{\"below\":[{\"id\":\"23792\"}],\"center\":[{\"id\":\"23795\"},{\"id\":\"23799\"}],\"height\":500,\"left\":[{\"id\":\"23796\"}],\"renderers\":[{\"id\":\"23818\"},{\"id\":\"23824\"},{\"id\":\"23830\"},{\"id\":\"23836\"},{\"id\":\"23842\"},{\"id\":\"23848\"}],\"right\":[{\"id\":\"23850\"}],\"title\":{\"id\":\"23782\"},\"toolbar\":{\"id\":\"23807\"},\"width\":800,\"x_range\":{\"id\":\"23784\"},\"x_scale\":{\"id\":\"23788\"},\"y_range\":{\"id\":\"23786\"},\"y_scale\":{\"id\":\"23790\"}},\"id\":\"23781\",\"subtype\":\"Figure\",\"type\":\"Plot\"},{\"attributes\":{\"coordinates\":null,\"data_source\":{\"id\":\"23838\"},\"glyph\":{\"id\":\"23839\"},\"group\":null,\"hover_glyph\":null,\"muted_glyph\":{\"id\":\"23841\"},\"nonselection_glyph\":{\"id\":\"23840\"},\"view\":{\"id\":\"23843\"}},\"id\":\"23842\",\"type\":\"GlyphRenderer\"},{\"attributes\":{},\"id\":\"24709\",\"type\":\"UnionRenderers\"},{\"attributes\":{},\"id\":\"24717\",\"type\":\"Selection\"},{\"attributes\":{\"coordinates\":null,\"data_source\":{\"id\":\"23769\"},\"glyph\":{\"id\":\"23770\"},\"group\":null,\"hover_glyph\":null,\"muted_glyph\":{\"id\":\"23772\"},\"nonselection_glyph\":{\"id\":\"23771\"},\"view\":{\"id\":\"23774\"}},\"id\":\"23773\",\"type\":\"GlyphRenderer\"},{\"attributes\":{\"line_alpha\":0.1,\"line_color\":\"#DA70D6\",\"line_width\":3,\"x\":{\"field\":\"x\"},\"y\":{\"field\":\"y\"}},\"id\":\"23840\",\"type\":\"Line\"},{\"attributes\":{\"coordinates\":null,\"data_source\":{\"id\":\"23814\"},\"glyph\":{\"id\":\"23815\"},\"group\":null,\"hover_glyph\":null,\"muted_glyph\":{\"id\":\"23817\"},\"nonselection_glyph\":{\"id\":\"23816\"},\"view\":{\"id\":\"23819\"}},\"id\":\"23818\",\"type\":\"GlyphRenderer\"},{\"attributes\":{\"source\":{\"id\":\"23838\"}},\"id\":\"23843\",\"type\":\"CDSView\"},{\"attributes\":{\"callback\":null,\"tooltips\":[[\"Year\",\"@x\"],[\"Count\",\"@y\"]]},\"id\":\"23916\",\"type\":\"HoverTool\"},{\"attributes\":{\"data\":{\"x\":[2003,2004,2005,2006,2007,2008,2009,2010,2011,2012,2013,2014,2015,2016,2017],\"y\":[446,403,423,402,431,485,485,553,560,612,598,702,740,756,875]},\"selected\":{\"id\":\"24706\"},\"selection_policy\":{\"id\":\"24705\"}},\"id\":\"23832\",\"type\":\"ColumnDataSource\"},{\"attributes\":{\"data\":{\"x\":[2003,2004,2005,2006,2007,2008,2009,2010,2011,2012,2013,2014,2015,2016,2017],\"y\":[3113,3297,3490,4031,3928,4150,3508,3232,3218,3850,4064,3344,3697,3230,3265]},\"selected\":{\"id\":\"24710\"},\"selection_policy\":{\"id\":\"24709\"}},\"id\":\"23844\",\"type\":\"ColumnDataSource\"},{\"attributes\":{\"line_alpha\":0.2,\"line_color\":\"#4B0082\",\"line_width\":3,\"x\":{\"field\":\"x\"},\"y\":{\"field\":\"y\"}},\"id\":\"23847\",\"type\":\"Line\"},{\"attributes\":{},\"id\":\"23793\",\"type\":\"BasicTicker\"},{\"attributes\":{},\"id\":\"24710\",\"type\":\"Selection\"},{\"attributes\":{},\"id\":\"23790\",\"type\":\"LinearScale\"},{\"attributes\":{\"axis\":{\"id\":\"23792\"},\"coordinates\":null,\"group\":null,\"ticker\":null},\"id\":\"23795\",\"type\":\"Grid\"},{\"attributes\":{},\"id\":\"23788\",\"type\":\"LinearScale\"},{\"attributes\":{\"coordinates\":null,\"data_source\":{\"id\":\"23844\"},\"glyph\":{\"id\":\"23845\"},\"group\":null,\"hover_glyph\":null,\"muted_glyph\":{\"id\":\"23847\"},\"nonselection_glyph\":{\"id\":\"23846\"},\"view\":{\"id\":\"23849\"}},\"id\":\"23848\",\"type\":\"GlyphRenderer\"},{\"attributes\":{\"line_alpha\":0.1,\"line_color\":\"#4B0082\",\"line_width\":3,\"x\":{\"field\":\"x\"},\"y\":{\"field\":\"y\"}},\"id\":\"23846\",\"type\":\"Line\"},{\"attributes\":{},\"id\":\"24694\",\"type\":\"UnionRenderers\"},{\"attributes\":{\"axis_label\":\"Year\",\"coordinates\":null,\"formatter\":{\"id\":\"24674\"},\"group\":null,\"major_label_policy\":{\"id\":\"24675\"},\"ticker\":{\"id\":\"23793\"}},\"id\":\"23792\",\"type\":\"LinearAxis\"},{\"attributes\":{\"line_alpha\":0.1,\"line_color\":\"#008080\",\"line_width\":3,\"x\":{\"field\":\"x\"},\"y\":{\"field\":\"y\"}},\"id\":\"23729\",\"type\":\"Line\"},{\"attributes\":{\"source\":{\"id\":\"23844\"}},\"id\":\"23849\",\"type\":\"CDSView\"},{\"attributes\":{},\"id\":\"23803\",\"type\":\"SaveTool\"},{\"attributes\":{\"data\":{\"x\":[2003,2004,2005,2006,2007,2008,2009,2010,2011,2012,2013,2014,2015,2016,2017],\"y\":[55854,57305,59348,51062,46924,46570,45474,43243,44387,52847,57456,60110,65469,63146,70983]},\"selected\":{\"id\":\"24713\"},\"selection_policy\":{\"id\":\"24712\"}},\"id\":\"23888\",\"type\":\"ColumnDataSource\"},{\"attributes\":{\"line_color\":\"#008080\",\"line_width\":3,\"x\":{\"field\":\"x\"},\"y\":{\"field\":\"y\"}},\"id\":\"23728\",\"type\":\"Line\"},{\"attributes\":{\"data\":{\"x\":[2003,2004,2005,2006,2007,2008,2009,2010,2011,2012,2013,2014,2015,2016,2017],\"y\":[11409,10968,10154,10779,10900,11063,10681,10659,10589,10519,10790,10398,11090,11546,11613]},\"selected\":{\"id\":\"24700\"},\"selection_policy\":{\"id\":\"24699\"}},\"id\":\"23814\",\"type\":\"ColumnDataSource\"},{\"attributes\":{\"label\":{\"value\":\"SEX OFFENSES, FORCIBLE\"},\"renderers\":[{\"id\":\"23836\"}]},\"id\":\"23851\",\"type\":\"LegendItem\"},{\"attributes\":{},\"id\":\"23801\",\"type\":\"WheelZoomTool\"},{\"attributes\":{},\"id\":\"24695\",\"type\":\"Selection\"},{\"attributes\":{},\"id\":\"24701\",\"type\":\"UnionRenderers\"},{\"attributes\":{\"below\":[{\"id\":\"23866\"}],\"center\":[{\"id\":\"23869\"},{\"id\":\"23873\"}],\"height\":500,\"left\":[{\"id\":\"23870\"}],\"renderers\":[{\"id\":\"23892\"},{\"id\":\"23898\"},{\"id\":\"23905\"},{\"id\":\"23911\"}],\"right\":[{\"id\":\"23913\"}],\"title\":{\"id\":\"23856\"},\"toolbar\":{\"id\":\"23881\"},\"width\":800,\"x_range\":{\"id\":\"23858\"},\"x_scale\":{\"id\":\"23862\"},\"y_range\":{\"id\":\"23860\"},\"y_scale\":{\"id\":\"23864\"}},\"id\":\"23855\",\"subtype\":\"Figure\",\"type\":\"Plot\"},{\"attributes\":{},\"id\":\"23858\",\"type\":\"DataRange1d\"},{\"attributes\":{\"coordinates\":null,\"group\":null,\"text\":\"Aggregated\"},\"id\":\"23856\",\"type\":\"Title\"},{\"attributes\":{\"line_alpha\":0.2,\"line_color\":\"#008080\",\"line_width\":3,\"x\":{\"field\":\"x\"},\"y\":{\"field\":\"y\"}},\"id\":\"23730\",\"type\":\"Line\"},{\"attributes\":{\"axis_label\":\"Count\",\"coordinates\":null,\"formatter\":{\"id\":\"24671\"},\"group\":null,\"major_label_policy\":{\"id\":\"24672\"},\"ticker\":{\"id\":\"23797\"}},\"id\":\"23796\",\"type\":\"LinearAxis\"},{\"attributes\":{\"coordinates\":null,\"data_source\":{\"id\":\"23888\"},\"glyph\":{\"id\":\"23889\"},\"group\":null,\"hover_glyph\":null,\"muted_glyph\":{\"id\":\"23891\"},\"nonselection_glyph\":{\"id\":\"23890\"},\"view\":{\"id\":\"23893\"}},\"id\":\"23892\",\"type\":\"GlyphRenderer\"},{\"attributes\":{\"coordinates\":null,\"data_source\":{\"id\":\"23832\"},\"glyph\":{\"id\":\"23833\"},\"group\":null,\"hover_glyph\":null,\"muted_glyph\":{\"id\":\"23835\"},\"nonselection_glyph\":{\"id\":\"23834\"},\"view\":{\"id\":\"23837\"}},\"id\":\"23836\",\"type\":\"GlyphRenderer\"},{\"attributes\":{},\"id\":\"24702\",\"type\":\"Selection\"},{\"attributes\":{\"axis\":{\"id\":\"23796\"},\"coordinates\":null,\"dimension\":1,\"group\":null,\"ticker\":null},\"id\":\"23799\",\"type\":\"Grid\"},{\"attributes\":{},\"id\":\"24665\",\"type\":\"BasicTickFormatter\"},{\"attributes\":{},\"id\":\"24718\",\"type\":\"UnionRenderers\"},{\"attributes\":{\"tools\":[{\"id\":\"23713\"},{\"id\":\"23714\"},{\"id\":\"23715\"},{\"id\":\"23716\"},{\"id\":\"23717\"},{\"id\":\"23718\"},{\"id\":\"23916\"}]},\"id\":\"23720\",\"type\":\"Toolbar\"},{\"attributes\":{},\"id\":\"23797\",\"type\":\"BasicTicker\"},{\"attributes\":{},\"id\":\"24719\",\"type\":\"Selection\"},{\"attributes\":{\"child\":{\"id\":\"23694\"},\"title\":\"Property Crimes\"},\"id\":\"23780\",\"type\":\"Panel\"},{\"attributes\":{\"coordinates\":null,\"data_source\":{\"id\":\"23894\"},\"glyph\":{\"id\":\"23895\"},\"group\":null,\"hover_glyph\":null,\"muted_glyph\":{\"id\":\"23897\"},\"nonselection_glyph\":{\"id\":\"23896\"},\"view\":{\"id\":\"23899\"}},\"id\":\"23898\",\"type\":\"GlyphRenderer\"},{\"attributes\":{\"line_color\":\"#DA70D6\",\"line_width\":3,\"x\":{\"field\":\"x\"},\"y\":{\"field\":\"y\"}},\"id\":\"23734\",\"type\":\"Line\"},{\"attributes\":{\"coordinates\":null,\"data_source\":{\"id\":\"23733\"},\"glyph\":{\"id\":\"23734\"},\"group\":null,\"hover_glyph\":null,\"muted_glyph\":{\"id\":\"23736\"},\"nonselection_glyph\":{\"id\":\"23735\"},\"view\":{\"id\":\"23738\"}},\"id\":\"23737\",\"type\":\"GlyphRenderer\"},{\"attributes\":{},\"id\":\"24666\",\"type\":\"AllLabels\"},{\"attributes\":{\"coordinates\":null,\"group\":null,\"items\":[{\"id\":\"23914\"},{\"id\":\"23915\"}],\"location\":[0,0]},\"id\":\"23913\",\"type\":\"Legend\"},{\"attributes\":{\"line_alpha\":0.2,\"line_color\":\"#DA70D6\",\"line_width\":3,\"x\":{\"field\":\"x\"},\"y\":{\"field\":\"y\"}},\"id\":\"23736\",\"type\":\"Line\"},{\"attributes\":{\"coordinates\":null,\"data_source\":{\"id\":\"23745\"},\"glyph\":{\"id\":\"23746\"},\"group\":null,\"hover_glyph\":null,\"muted_glyph\":{\"id\":\"23748\"},\"nonselection_glyph\":{\"id\":\"23747\"},\"view\":{\"id\":\"23750\"}},\"id\":\"23749\",\"type\":\"GlyphRenderer\"},{\"attributes\":{\"label\":{\"value\":\"ASSAULT\"},\"renderers\":[{\"id\":\"23842\"}]},\"id\":\"23852\",\"type\":\"LegendItem\"},{\"attributes\":{},\"id\":\"23867\",\"type\":\"BasicTicker\"},{\"attributes\":{},\"id\":\"23864\",\"type\":\"LinearScale\"},{\"attributes\":{\"source\":{\"id\":\"23733\"}},\"id\":\"23738\",\"type\":\"CDSView\"},{\"attributes\":{},\"id\":\"23805\",\"type\":\"HelpTool\"},{\"attributes\":{\"axis\":{\"id\":\"23866\"},\"coordinates\":null,\"group\":null,\"ticker\":null},\"id\":\"23869\",\"type\":\"Grid\"},{\"attributes\":{\"data\":{\"x\":[2003,2004,2005,2006,2007,2008,2009,2010,2011,2012,2013,2014,2015,2016,2017],\"y\":[26185,24337,25226,27227,25599,25636,25419,24212,25629,30760,36216,37860,41980,40365,47714]},\"selected\":{\"id\":\"24685\"},\"selection_policy\":{\"id\":\"24684\"}},\"id\":\"23733\",\"type\":\"ColumnDataSource\"},{\"attributes\":{},\"id\":\"23800\",\"type\":\"PanTool\"},{\"attributes\":{},\"id\":\"23862\",\"type\":\"LinearScale\"},{\"attributes\":{\"overlay\":{\"id\":\"23806\"}},\"id\":\"23802\",\"type\":\"BoxZoomTool\"},{\"attributes\":{\"axis_label\":\"Year\",\"coordinates\":null,\"formatter\":{\"id\":\"24680\"},\"group\":null,\"major_label_policy\":{\"id\":\"24681\"},\"ticker\":{\"id\":\"23867\"}},\"id\":\"23866\",\"type\":\"LinearAxis\"},{\"attributes\":{\"line_color\":\"#4B0082\",\"line_width\":3,\"x\":{\"field\":\"x\"},\"y\":{\"field\":\"y\"}},\"id\":\"23740\",\"type\":\"Line\"},{\"attributes\":{},\"id\":\"24668\",\"type\":\"BasicTickFormatter\"},{\"attributes\":{\"child\":{\"id\":\"23855\"},\"title\":\"Aggregated\"},\"id\":\"23900\",\"type\":\"Panel\"},{\"attributes\":{\"line_alpha\":0.1,\"line_color\":\"#DA70D6\",\"line_width\":3,\"x\":{\"field\":\"x\"},\"y\":{\"field\":\"y\"}},\"id\":\"23735\",\"type\":\"Line\"},{\"attributes\":{},\"id\":\"23804\",\"type\":\"ResetTool\"},{\"attributes\":{\"line_alpha\":0.2,\"line_color\":\"#4B0082\",\"line_width\":3,\"x\":{\"field\":\"x\"},\"y\":{\"field\":\"y\"}},\"id\":\"23742\",\"type\":\"Line\"},{\"attributes\":{},\"id\":\"23875\",\"type\":\"WheelZoomTool\"},{\"attributes\":{},\"id\":\"24696\",\"type\":\"UnionRenderers\"},{\"attributes\":{\"data\":{\"x\":[2003,2004,2005,2006,2007,2008,2009,2010,2011,2012,2013,2014,2015,2016,2017],\"y\":[6377,6427,6963,7599,7452,7234,7510,7743,7077,7704,6833,7102,7636,8557,9719]},\"selected\":{\"id\":\"24687\"},\"selection_policy\":{\"id\":\"24686\"}},\"id\":\"23739\",\"type\":\"ColumnDataSource\"},{\"attributes\":{},\"id\":\"24669\",\"type\":\"AllLabels\"},{\"attributes\":{},\"id\":\"24697\",\"type\":\"Selection\"},{\"attributes\":{\"axis_label\":\"Count\",\"coordinates\":null,\"formatter\":{\"id\":\"24677\"},\"group\":null,\"major_label_policy\":{\"id\":\"24678\"},\"ticker\":{\"id\":\"23871\"}},\"id\":\"23870\",\"type\":\"LinearAxis\"},{\"attributes\":{\"line_color\":\"#4B0082\",\"line_width\":3,\"x\":{\"field\":\"x\"},\"y\":{\"field\":\"y\"}},\"id\":\"23764\",\"type\":\"Line\"},{\"attributes\":{},\"id\":\"24703\",\"type\":\"UnionRenderers\"},{\"attributes\":{\"axis\":{\"id\":\"23870\"},\"coordinates\":null,\"dimension\":1,\"group\":null,\"ticker\":null},\"id\":\"23873\",\"type\":\"Grid\"},{\"attributes\":{\"line_color\":\"blue\",\"line_width\":3,\"x\":{\"field\":\"x\"},\"y\":{\"field\":\"y\"}},\"id\":\"23746\",\"type\":\"Line\"},{\"attributes\":{\"bottom_units\":\"screen\",\"coordinates\":null,\"fill_alpha\":0.5,\"fill_color\":\"lightgrey\",\"group\":null,\"left_units\":\"screen\",\"level\":\"overlay\",\"line_alpha\":1.0,\"line_color\":\"black\",\"line_dash\":[4,4],\"line_width\":2,\"right_units\":\"screen\",\"syncable\":false,\"top_units\":\"screen\"},\"id\":\"23806\",\"type\":\"BoxAnnotation\"},{\"attributes\":{},\"id\":\"23871\",\"type\":\"BasicTicker\"},{\"attributes\":{\"coordinates\":null,\"data_source\":{\"id\":\"23739\"},\"glyph\":{\"id\":\"23740\"},\"group\":null,\"hover_glyph\":null,\"muted_glyph\":{\"id\":\"23742\"},\"nonselection_glyph\":{\"id\":\"23741\"},\"view\":{\"id\":\"23744\"}},\"id\":\"23743\",\"type\":\"GlyphRenderer\"},{\"attributes\":{},\"id\":\"24704\",\"type\":\"Selection\"},{\"attributes\":{\"coordinates\":null,\"data_source\":{\"id\":\"23751\"},\"glyph\":{\"id\":\"23752\"},\"group\":null,\"hover_glyph\":null,\"muted_glyph\":{\"id\":\"23754\"},\"nonselection_glyph\":{\"id\":\"23753\"},\"view\":{\"id\":\"23756\"}},\"id\":\"23755\",\"type\":\"GlyphRenderer\"},{\"attributes\":{\"line_alpha\":0.1,\"line_color\":\"#4B0082\",\"line_width\":3,\"x\":{\"field\":\"x\"},\"y\":{\"field\":\"y\"}},\"id\":\"23741\",\"type\":\"Line\"},{\"attributes\":{\"source\":{\"id\":\"23739\"}},\"id\":\"23744\",\"type\":\"CDSView\"},{\"attributes\":{},\"id\":\"23879\",\"type\":\"HelpTool\"},{\"attributes\":{\"data\":{\"x\":[2003,2004,2005,2006,2007,2008,2009,2010,2011,2012,2013,2014,2015,2016,2017],\"y\":[15276,17816,18103,7263,6444,6042,5170,4336,4743,6174,6234,7101,7935,6417,5705]},\"selected\":{\"id\":\"24689\"},\"selection_policy\":{\"id\":\"24688\"}},\"id\":\"23745\",\"type\":\"ColumnDataSource\"},{\"attributes\":{},\"id\":\"23874\",\"type\":\"PanTool\"},{\"attributes\":{\"coordinates\":null,\"data_source\":{\"id\":\"23727\"},\"glyph\":{\"id\":\"23728\"},\"group\":null,\"hover_glyph\":null,\"muted_glyph\":{\"id\":\"23730\"},\"nonselection_glyph\":{\"id\":\"23729\"},\"view\":{\"id\":\"23732\"}},\"id\":\"23731\",\"type\":\"GlyphRenderer\"},{\"attributes\":{\"line_alpha\":0.2,\"line_color\":\"blue\",\"line_width\":3,\"x\":{\"field\":\"x\"},\"y\":{\"field\":\"y\"}},\"id\":\"23748\",\"type\":\"Line\"},{\"attributes\":{\"label\":{\"value\":\"ROBBERY\"},\"renderers\":[{\"id\":\"23848\"}]},\"id\":\"23853\",\"type\":\"LegendItem\"},{\"attributes\":{\"coordinates\":null,\"group\":null,\"items\":[{\"id\":\"23776\"},{\"id\":\"23777\"},{\"id\":\"23778\"},{\"id\":\"23779\"}],\"label_text_font_size\":\"8pt\",\"location\":[0,0]},\"id\":\"23775\",\"type\":\"Legend\"},{\"attributes\":{\"overlay\":{\"id\":\"23880\"}},\"id\":\"23876\",\"type\":\"BoxZoomTool\"},{\"attributes\":{},\"id\":\"23877\",\"type\":\"SaveTool\"},{\"attributes\":{},\"id\":\"23878\",\"type\":\"ResetTool\"},{\"attributes\":{},\"id\":\"23699\",\"type\":\"DataRange1d\"},{\"attributes\":{\"source\":{\"id\":\"23727\"}},\"id\":\"23732\",\"type\":\"CDSView\"},{\"attributes\":{\"line_alpha\":0.2,\"line_color\":\"#008080\",\"line_width\":3,\"x\":{\"field\":\"x\"},\"y\":{\"field\":\"y\"}},\"id\":\"23754\",\"type\":\"Line\"},{\"attributes\":{\"line_alpha\":0.1,\"line_color\":\"#008080\",\"line_width\":3,\"x\":{\"field\":\"x\"},\"y\":{\"field\":\"y\"}},\"id\":\"23753\",\"type\":\"Line\"},{\"attributes\":{\"bottom_units\":\"screen\",\"coordinates\":null,\"fill_alpha\":0.5,\"fill_color\":\"lightgrey\",\"group\":null,\"left_units\":\"screen\",\"level\":\"overlay\",\"line_alpha\":1.0,\"line_color\":\"black\",\"line_dash\":[4,4],\"line_width\":2,\"right_units\":\"screen\",\"syncable\":false,\"top_units\":\"screen\"},\"id\":\"23880\",\"type\":\"BoxAnnotation\"},{\"attributes\":{\"data\":{\"x\":[2003,2004,2005,2006,2007,2008,2009,2010,2011,2012,2013,2014,2015,2016,2017],\"y\":[6013,6721,7051,6967,5422,5650,5366,4942,4927,6197,6160,6033,5903,5791,5828]},\"selected\":{\"id\":\"24683\"},\"selection_policy\":{\"id\":\"24682\"}},\"id\":\"23727\",\"type\":\"ColumnDataSource\"},{\"attributes\":{\"source\":{\"id\":\"23757\"}},\"id\":\"23762\",\"type\":\"CDSView\"},{\"attributes\":{\"below\":[{\"id\":\"23705\"}],\"center\":[{\"id\":\"23708\"},{\"id\":\"23712\"}],\"height\":500,\"left\":[{\"id\":\"23709\"}],\"renderers\":[{\"id\":\"23731\"},{\"id\":\"23737\"},{\"id\":\"23743\"},{\"id\":\"23749\"},{\"id\":\"23755\"},{\"id\":\"23761\"},{\"id\":\"23767\"},{\"id\":\"23773\"}],\"right\":[{\"id\":\"23775\"}],\"title\":{\"id\":\"23695\"},\"toolbar\":{\"id\":\"23720\"},\"width\":800,\"x_range\":{\"id\":\"23697\"},\"x_scale\":{\"id\":\"23701\"},\"y_range\":{\"id\":\"23699\"},\"y_scale\":{\"id\":\"23703\"}},\"id\":\"23694\",\"subtype\":\"Figure\",\"type\":\"Plot\"},{\"attributes\":{\"tools\":[{\"id\":\"23874\"},{\"id\":\"23875\"},{\"id\":\"23876\"},{\"id\":\"23877\"},{\"id\":\"23878\"},{\"id\":\"23879\"},{\"id\":\"23916\"}]},\"id\":\"23881\",\"type\":\"Toolbar\"},{\"attributes\":{\"line_alpha\":0.2,\"line_color\":\"#4B0082\",\"line_width\":3,\"x\":{\"field\":\"x\"},\"y\":{\"field\":\"y\"}},\"id\":\"23766\",\"type\":\"Line\"},{\"attributes\":{\"line_alpha\":0.1,\"line_color\":\"blue\",\"line_width\":3,\"x\":{\"field\":\"x\"},\"y\":{\"field\":\"y\"}},\"id\":\"23747\",\"type\":\"Line\"},{\"attributes\":{},\"id\":\"24712\",\"type\":\"UnionRenderers\"},{\"attributes\":{\"axis_label\":\"Count\",\"coordinates\":null,\"formatter\":{\"id\":\"24665\"},\"group\":null,\"major_label_policy\":{\"id\":\"24666\"},\"ticker\":{\"id\":\"23710\"}},\"id\":\"23709\",\"type\":\"LinearAxis\"},{\"attributes\":{\"data\":{\"x\":[2003,2004,2005,2006,2007,2008,2009,2010,2011,2012,2013,2014,2015,2016,2017],\"y\":[3113,3297,3490,4031,3928,4150,3508,3232,3218,3850,4064,3344,3697,3230,3265]},\"selected\":{\"id\":\"24702\"},\"selection_policy\":{\"id\":\"24701\"}},\"id\":\"23820\",\"type\":\"ColumnDataSource\"},{\"attributes\":{},\"id\":\"23697\",\"type\":\"DataRange1d\"},{\"attributes\":{\"source\":{\"id\":\"23745\"}},\"id\":\"23750\",\"type\":\"CDSView\"},{\"attributes\":{\"child\":{\"id\":\"23781\"},\"title\":\"Violent Crimes\"},\"id\":\"23854\",\"type\":\"Panel\"},{\"attributes\":{},\"id\":\"24705\",\"type\":\"UnionRenderers\"},{\"attributes\":{},\"id\":\"24713\",\"type\":\"Selection\"},{\"attributes\":{\"line_alpha\":0.1,\"line_color\":\"#DA70D6\",\"line_width\":3,\"x\":{\"field\":\"x\"},\"y\":{\"field\":\"y\"}},\"id\":\"23759\",\"type\":\"Line\"},{\"attributes\":{\"source\":{\"id\":\"23751\"}},\"id\":\"23756\",\"type\":\"CDSView\"},{\"attributes\":{\"coordinates\":null,\"data_source\":{\"id\":\"23757\"},\"glyph\":{\"id\":\"23758\"},\"group\":null,\"hover_glyph\":null,\"muted_glyph\":{\"id\":\"23760\"},\"nonselection_glyph\":{\"id\":\"23759\"},\"view\":{\"id\":\"23762\"}},\"id\":\"23761\",\"type\":\"GlyphRenderer\"},{\"attributes\":{\"coordinates\":null,\"data_source\":{\"id\":\"23820\"},\"glyph\":{\"id\":\"23821\"},\"group\":null,\"hover_glyph\":null,\"muted_glyph\":{\"id\":\"23823\"},\"nonselection_glyph\":{\"id\":\"23822\"},\"view\":{\"id\":\"23825\"}},\"id\":\"23824\",\"type\":\"GlyphRenderer\"},{\"attributes\":{},\"id\":\"23710\",\"type\":\"BasicTicker\"},{\"attributes\":{\"line_alpha\":0.1,\"line_color\":\"#4B0082\",\"line_width\":3,\"x\":{\"field\":\"x\"},\"y\":{\"field\":\"y\"}},\"id\":\"23765\",\"type\":\"Line\"},{\"attributes\":{},\"id\":\"23706\",\"type\":\"BasicTicker\"},{\"attributes\":{},\"id\":\"24706\",\"type\":\"Selection\"},{\"attributes\":{\"axis\":{\"id\":\"23709\"},\"coordinates\":null,\"dimension\":1,\"group\":null,\"ticker\":null},\"id\":\"23712\",\"type\":\"Grid\"},{\"attributes\":{\"line_color\":\"#008080\",\"line_width\":3,\"x\":{\"field\":\"x\"},\"y\":{\"field\":\"y\"}},\"id\":\"23752\",\"type\":\"Line\"},{\"attributes\":{\"line_alpha\":0.1,\"line_color\":\"#008080\",\"line_width\":3,\"x\":{\"field\":\"x\"},\"y\":{\"field\":\"y\"}},\"id\":\"23816\",\"type\":\"Line\"},{\"attributes\":{\"coordinates\":null,\"group\":null,\"text\":\"Property crimes\"},\"id\":\"23695\",\"type\":\"Title\"},{\"attributes\":{\"line_color\":\"#DA70D6\",\"line_width\":3,\"x\":{\"field\":\"x\"},\"y\":{\"field\":\"y\"}},\"id\":\"23758\",\"type\":\"Line\"},{\"attributes\":{},\"id\":\"23703\",\"type\":\"LinearScale\"},{\"attributes\":{\"data\":{\"x\":[2003,2004,2005,2006,2007,2008,2009,2010,2011,2012,2013,2014,2015,2016,2017],\"y\":[15276,17816,18103,7263,6444,6042,5170,4336,4743,6174,6234,7101,7935,6417,5705]},\"selected\":{\"id\":\"24693\"},\"selection_policy\":{\"id\":\"24692\"}},\"id\":\"23757\",\"type\":\"ColumnDataSource\"},{\"attributes\":{\"axis\":{\"id\":\"23705\"},\"coordinates\":null,\"group\":null,\"ticker\":null},\"id\":\"23708\",\"type\":\"Grid\"},{\"attributes\":{\"line_alpha\":0.2,\"line_color\":\"#DA70D6\",\"line_width\":3,\"x\":{\"field\":\"x\"},\"y\":{\"field\":\"y\"}},\"id\":\"23760\",\"type\":\"Line\"},{\"attributes\":{},\"id\":\"23701\",\"type\":\"LinearScale\"},{\"attributes\":{\"data\":{\"x\":[2003,2004,2005,2006,2007,2008,2009,2010,2011,2012,2013,2014,2015,2016,2017],\"y\":[26185,24337,25226,27227,25599,25636,25419,24212,25629,30760,36216,37860,41980,40365,47714]},\"selected\":{\"id\":\"24695\"},\"selection_policy\":{\"id\":\"24694\"}},\"id\":\"23763\",\"type\":\"ColumnDataSource\"},{\"attributes\":{\"line_color\":\"#008080\",\"line_width\":3,\"x\":{\"field\":\"x\"},\"y\":{\"field\":\"y\"}},\"id\":\"23815\",\"type\":\"Line\"},{\"attributes\":{\"axis_label\":\"Year\",\"coordinates\":null,\"formatter\":{\"id\":\"24668\"},\"group\":null,\"major_label_policy\":{\"id\":\"24669\"},\"ticker\":{\"id\":\"23706\"}},\"id\":\"23705\",\"type\":\"LinearAxis\"},{\"attributes\":{\"coordinates\":null,\"data_source\":{\"id\":\"23763\"},\"glyph\":{\"id\":\"23764\"},\"group\":null,\"hover_glyph\":null,\"muted_glyph\":{\"id\":\"23766\"},\"nonselection_glyph\":{\"id\":\"23765\"},\"view\":{\"id\":\"23768\"}},\"id\":\"23767\",\"type\":\"GlyphRenderer\"},{\"attributes\":{\"line_alpha\":0.2,\"line_color\":\"#008080\",\"line_width\":3,\"x\":{\"field\":\"x\"},\"y\":{\"field\":\"y\"}},\"id\":\"23891\",\"type\":\"Line\"},{\"attributes\":{},\"id\":\"24682\",\"type\":\"UnionRenderers\"},{\"attributes\":{\"line_color\":\"#008080\",\"line_width\":3,\"x\":{\"field\":\"x\"},\"y\":{\"field\":\"y\"}},\"id\":\"23889\",\"type\":\"Line\"},{\"attributes\":{},\"id\":\"24683\",\"type\":\"Selection\"},{\"attributes\":{},\"id\":\"24671\",\"type\":\"BasicTickFormatter\"},{\"attributes\":{\"line_alpha\":0.1,\"line_color\":\"#008080\",\"line_width\":3,\"x\":{\"field\":\"x\"},\"y\":{\"field\":\"y\"}},\"id\":\"23890\",\"type\":\"Line\"},{\"attributes\":{},\"id\":\"24672\",\"type\":\"AllLabels\"},{\"attributes\":{\"source\":{\"id\":\"23888\"}},\"id\":\"23893\",\"type\":\"CDSView\"},{\"attributes\":{\"line_alpha\":0.2,\"line_color\":\"#DA70D6\",\"line_width\":3,\"x\":{\"field\":\"x\"},\"y\":{\"field\":\"y\"}},\"id\":\"23897\",\"type\":\"Line\"},{\"attributes\":{\"line_color\":\"#DA70D6\",\"line_width\":3,\"x\":{\"field\":\"x\"},\"y\":{\"field\":\"y\"}},\"id\":\"23895\",\"type\":\"Line\"},{\"attributes\":{},\"id\":\"24674\",\"type\":\"BasicTickFormatter\"},{\"attributes\":{\"data\":{\"x\":[2003,2004,2005,2006,2007,2008,2009,2010,2011,2012,2013,2014,2015,2016,2017],\"y\":[16971,16672,16072,17218,17266,17706,16683,16454,16378,16993,17465,16458,17542,17548,17770]},\"selected\":{\"id\":\"24715\"},\"selection_policy\":{\"id\":\"24714\"}},\"id\":\"23894\",\"type\":\"ColumnDataSource\"},{\"attributes\":{},\"id\":\"24684\",\"type\":\"UnionRenderers\"},{\"attributes\":{},\"id\":\"24675\",\"type\":\"AllLabels\"},{\"attributes\":{\"line_alpha\":0.1,\"line_color\":\"#DA70D6\",\"line_width\":3,\"x\":{\"field\":\"x\"},\"y\":{\"field\":\"y\"}},\"id\":\"23896\",\"type\":\"Line\"},{\"attributes\":{\"line_alpha\":0.2,\"line_color\":\"#008080\",\"line_width\":3,\"x\":{\"field\":\"x\"},\"y\":{\"field\":\"y\"}},\"id\":\"23904\",\"type\":\"Line\"},{\"attributes\":{},\"id\":\"24685\",\"type\":\"Selection\"},{\"attributes\":{\"source\":{\"id\":\"23894\"}},\"id\":\"23899\",\"type\":\"CDSView\"},{\"attributes\":{\"coordinates\":null,\"data_source\":{\"id\":\"23901\"},\"glyph\":{\"id\":\"23902\"},\"group\":null,\"hover_glyph\":null,\"muted_glyph\":{\"id\":\"23904\"},\"nonselection_glyph\":{\"id\":\"23903\"},\"view\":{\"id\":\"23906\"}},\"id\":\"23905\",\"type\":\"GlyphRenderer\"},{\"attributes\":{\"line_color\":\"#008080\",\"line_width\":3,\"x\":{\"field\":\"x\"},\"y\":{\"field\":\"y\"}},\"id\":\"23902\",\"type\":\"Line\"},{\"attributes\":{\"line_color\":\"#DA70D6\",\"line_width\":3,\"x\":{\"field\":\"x\"},\"y\":{\"field\":\"y\"}},\"id\":\"23908\",\"type\":\"Line\"},{\"attributes\":{\"data\":{\"x\":[2003,2004,2005,2006,2007,2008,2009,2010,2011,2012,2013,2014,2015,2016,2017],\"y\":[55854,57305,59348,51062,46924,46570,45474,43243,44387,52847,57456,60110,65469,63146,70983]},\"selected\":{\"id\":\"24717\"},\"selection_policy\":{\"id\":\"24716\"}},\"id\":\"23901\",\"type\":\"ColumnDataSource\"},{\"attributes\":{\"line_alpha\":0.1,\"line_color\":\"#008080\",\"line_width\":3,\"x\":{\"field\":\"x\"},\"y\":{\"field\":\"y\"}},\"id\":\"23903\",\"type\":\"Line\"},{\"attributes\":{\"source\":{\"id\":\"23901\"}},\"id\":\"23906\",\"type\":\"CDSView\"},{\"attributes\":{\"line_alpha\":0.2,\"line_color\":\"#DA70D6\",\"line_width\":3,\"x\":{\"field\":\"x\"},\"y\":{\"field\":\"y\"}},\"id\":\"23910\",\"type\":\"Line\"},{\"attributes\":{\"data\":{\"x\":[2003,2004,2005,2006,2007,2008,2009,2010,2011,2012,2013,2014,2015,2016,2017],\"y\":[16971,16672,16072,17218,17266,17706,16683,16454,16378,16993,17465,16458,17542,17548,17770]},\"selected\":{\"id\":\"24719\"},\"selection_policy\":{\"id\":\"24718\"}},\"id\":\"23907\",\"type\":\"ColumnDataSource\"},{\"attributes\":{},\"id\":\"24686\",\"type\":\"UnionRenderers\"},{\"attributes\":{\"coordinates\":null,\"data_source\":{\"id\":\"23907\"},\"glyph\":{\"id\":\"23908\"},\"group\":null,\"hover_glyph\":null,\"muted_glyph\":{\"id\":\"23910\"},\"nonselection_glyph\":{\"id\":\"23909\"},\"view\":{\"id\":\"23912\"}},\"id\":\"23911\",\"type\":\"GlyphRenderer\"},{\"attributes\":{},\"id\":\"24687\",\"type\":\"Selection\"},{\"attributes\":{\"line_alpha\":0.1,\"line_color\":\"#DA70D6\",\"line_width\":3,\"x\":{\"field\":\"x\"},\"y\":{\"field\":\"y\"}},\"id\":\"23909\",\"type\":\"Line\"},{\"attributes\":{\"source\":{\"id\":\"23907\"}},\"id\":\"23912\",\"type\":\"CDSView\"},{\"attributes\":{\"label\":{\"value\":\"Property Crimes\"},\"renderers\":[{\"id\":\"23905\"}]},\"id\":\"23914\",\"type\":\"LegendItem\"},{\"attributes\":{\"label\":{\"value\":\"Violent Crimes\"},\"renderers\":[{\"id\":\"23911\"}]},\"id\":\"23915\",\"type\":\"LegendItem\"},{\"attributes\":{},\"id\":\"24688\",\"type\":\"UnionRenderers\"},{\"attributes\":{},\"id\":\"24689\",\"type\":\"Selection\"},{\"attributes\":{},\"id\":\"24677\",\"type\":\"BasicTickFormatter\"},{\"attributes\":{},\"id\":\"24678\",\"type\":\"AllLabels\"},{\"attributes\":{},\"id\":\"24680\",\"type\":\"BasicTickFormatter\"},{\"attributes\":{},\"id\":\"24690\",\"type\":\"UnionRenderers\"},{\"attributes\":{},\"id\":\"24681\",\"type\":\"AllLabels\"}],\"root_ids\":[\"23920\"]},\"title\":\"Bokeh Application\",\"version\":\"2.4.2\"}};\n  const render_items = [{\"docid\":\"b1a16f23-93e6-4d21-956e-c042a06a393d\",\"root_ids\":[\"23920\"],\"roots\":{\"23920\":\"6144fbe2-850f-48e7-aa70-5e17fac691e4\"}}];\n  root.Bokeh.embed.embed_items_notebook(docs_json, render_items);\n\n  }\n  if (root.Bokeh !== undefined) {\n    embed_document(root);\n  } else {\n    let attempts = 0;\n    const timer = setInterval(function(root) {\n      if (root.Bokeh !== undefined) {\n        clearInterval(timer);\n        embed_document(root);\n      } else {\n        attempts++;\n        if (attempts > 100) {\n          clearInterval(timer);\n          console.log(\"Bokeh: ERROR: Unable to run BokehJS code because BokehJS library is missing\");\n        }\n      }\n    }, 10, root)\n  }\n})(window);",
      "application/vnd.bokehjs_exec.v0+json": ""
     },
     "metadata": {
      "application/vnd.bokehjs_exec.v0+json": {
       "id": "23920"
      }
     },
     "output_type": "display_data"
    }
   ],
   "source": [
    "output_file(\"time_series_plot.html\")\n",
    "\n",
    "colors_list = [\"#008080\", \"#DA70D6\", \"#4B0082\", \"blue\", \"red\"]\n",
    "\n",
    "# Plot 1 - Property crimes\n",
    "p1 = figure(plot_width=800, plot_height=500, title = \"Property crimes\", x_axis_label = 'Year', y_axis_label = 'Count')\n",
    "for i in range(len(df_property.columns)-1):\n",
    "    p1.line(df_property.year, df_property[df_property.columns[i+1]], line_width=3, color=colors_list[i])\n",
    "    \n",
    "# add legend \n",
    "legend = Legend(items=[(col, [p1.line(df_property.year,df_property[col], line_width=3, color=colors_list[i])]) \n",
    "                       for i, col in enumerate(property_crimes)],\n",
    "                location=(0, 0))\n",
    "p1.add_layout(legend, 'right')\n",
    "p1.legend.label_text_font_size = \"8pt\"\n",
    "tab1 = Panel(child=p1, title=\"Property Crimes\")\n",
    "\n",
    "# Plot 2 - Violent crimes\n",
    "p2 = figure(plot_width=800, plot_height=500, title = \"Violent crimes\", x_axis_label = 'Year', y_axis_label = 'Count')\n",
    "for i in range(len(df_violent.columns)-1):\n",
    "    p2.line(df_violent.year, df_violent[df_violent.columns[i+1]], line_width=3, color=colors_list[i])\n",
    "\n",
    "# add legend to plot\n",
    "legend = Legend(items=[(col, [p2.line(df_violent.year,df_violent[col], line_width=3, color=colors_list[i])]) \n",
    "                       for i, col in enumerate(violent_crimes)],\n",
    "                location=(0, 0))\n",
    "p2.add_layout(legend, 'right')\n",
    "p2.legend.label_text_font_size = \"8pt\"\n",
    "tab2 = Panel(child=p2, title=\"Violent Crimes\")\n",
    "\n",
    "\n",
    "# add a tab with the aggregated plot\n",
    "p3 = figure(plot_width=800, plot_height=500, title = \"Aggregated\", x_axis_label = 'Year', y_axis_label = 'Count')\n",
    "p3.line(df_property.year, df_property.sum(axis=1), line_width=3, color=colors_list[0])\n",
    "p3.line(df_violent.year, df_violent.sum(axis=1), line_width=3, color=colors_list[1])\n",
    "tab3 = Panel(child=p3, title=\"Aggregated\")\n",
    "# add legend\n",
    "legend = Legend(items=[(\"Property Crimes\", [p3.line(df_property.year,df_property.sum(axis=1), line_width=3, color=colors_list[0])]),\n",
    "                          (\"Violent Crimes\", [p3.line(df_violent.year,df_violent.sum(axis=1), line_width=3, color=colors_list[1])])],\n",
    "                location=(0, 0))\n",
    "p3.legend.label_text_font_size = \"8pt\"\n",
    "p3.add_layout(legend, 'right')\n",
    "\n",
    "# add hover tool to all plots\n",
    "hover = HoverTool(tooltips=[('Year', '@x'), ('Count', '@y')])\n",
    "p1.add_tools(hover)\n",
    "p2.add_tools(hover)\n",
    "p3.add_tools(hover)\n",
    "\n",
    "tabs = Tabs(tabs=[ tab1, tab2, tab3 ])\n",
    "\n",
    "\n",
    "show(tabs)"
   ]
  },
  {
   "attachments": {},
   "cell_type": "markdown",
   "metadata": {},
   "source": [
    "<a id='part3'></a>\n",
    "## Map plot"
   ]
  },
  {
   "cell_type": "code",
   "execution_count": 61,
   "metadata": {},
   "outputs": [],
   "source": [
    "district = ['Central', 'Southern', 'Bayview', 'Mission', 'Northern', 'Park', 'Richmond', 'Ingleside', 'Taraval', 'Tenderloin']\n",
    "population = [69961, 65166, 74191, 81913, 104067, 63359, 87890, 138002, 155029, 35902]\n",
    "data_district = pd.DataFrame({'district': district, 'population': population})\n",
    "\n",
    "# capitalize district names\n",
    "data_district['district'] = data_district['district'].str.upper()"
   ]
  },
  {
   "cell_type": "code",
   "execution_count": 62,
   "metadata": {},
   "outputs": [],
   "source": [
    "#Aggregate data by police district\n",
    "df_map_violent = df_violent_ori.pivot_table(index='PdDistrict', values='PdId', aggfunc='count')\n",
    "df_map_violent = df_map_violent.reset_index()\n",
    "\n",
    "df_map_property = df_property_ori.pivot_table(index='PdDistrict', values='PdId', aggfunc='count')\n",
    "df_map_property = df_map_property.reset_index()\n",
    "\n",
    "df_map_property_theft = df_property_ori[df_property_ori['Category']=='LARCENY/THEFT'].pivot_table(index='PdDistrict', values='PdId', aggfunc='count')\n",
    "df_map_property_theft = df_map_property_theft.reset_index()"
   ]
  },
  {
   "cell_type": "code",
   "execution_count": 63,
   "metadata": {},
   "outputs": [],
   "source": [
    "# insert population in df_map_new\n",
    "df_map_violent = df_map_violent.merge(data_district, left_on='PdDistrict', right_on='district')\n",
    "df_map_violent['crime_rate'] = df_map_violent['PdId']/df_map_violent['population']\n",
    "\n",
    "# insert population in df_map_new\n",
    "df_map_property = df_map_property.merge(data_district, left_on='PdDistrict', right_on='district')\n",
    "df_map_property['crime_rate'] = df_map_property['PdId']/df_map_property['population']\n",
    "\n",
    "# insert population in df_map_new\n",
    "df_map_property_theft = df_map_property_theft.merge(data_district, left_on='PdDistrict', right_on='district')\n",
    "df_map_property_theft['crime_rate'] = df_map_property_theft['PdId']/df_map_property_theft['population']"
   ]
  },
  {
   "cell_type": "code",
   "execution_count": 64,
   "metadata": {},
   "outputs": [],
   "source": [
    "from urllib.request import urlopen\n",
    "import json\n",
    "with urlopen('https://raw.githubusercontent.com/suneman/socialdata2022/main/files/sfpd.geojson') as response:\n",
    "    districts = json.load(response)"
   ]
  },
  {
   "cell_type": "code",
   "execution_count": 65,
   "metadata": {},
   "outputs": [],
   "source": [
    "fig = make_subplots(rows=1, cols=1, subplot_titles=['Crimes per population in each district'],\n",
    "    specs=[[{\"type\": \"mapbox\"}]])\n",
    "\n",
    "# Making a choropleth map where we change the data range from [0, 3000] to [0, 10000]\n",
    "fig.add_trace(go.Choroplethmapbox(geojson=districts, locations=df_map_violent['PdDistrict'], z=df_map_violent['crime_rate'],\n",
    "                                  colorscale='Viridis', marker=dict(opacity=0.8), \n",
    "                                  zmin=0, zmax=max(df_map_violent.crime_rate)*1.1,\n",
    "                                  colorbar=dict(thickness=20, x=1.02)),\n",
    "                                  row=1, col=1)\n",
    "\n",
    "# Making a choropleth map where we change the colorscale and decrease the opacity from 0.7 to 0.4\n",
    "fig.add_trace(go.Choroplethmapbox(geojson=districts, locations=df_map_property['PdDistrict'], z=df_map_property['crime_rate'],\n",
    "                                  colorscale='Viridis', marker=dict(opacity=0.8), \n",
    "                                  zmin=0, zmax=max(df_map_property.crime_rate)*1.1,\n",
    "                                  colorbar=dict(thickness=20, x=1.02)),\n",
    "                                  row=1, col=1)\n",
    "\n",
    "# Making a choropleth map where we change the colorscale and decrease the opacity from 0.7 to 0.4\n",
    "fig.add_trace(go.Choroplethmapbox(geojson=districts, locations=df_map_property_theft['PdDistrict'], z=df_map_property_theft['crime_rate'],\n",
    "                                  colorscale='Viridis', marker=dict(opacity=0.8), \n",
    "                                  zmin=0, zmax=max(df_map_property_theft.crime_rate)*1.1,\n",
    "                                  colorbar=dict(thickness=20, x=1.02)),\n",
    "                                  row=1, col=1)\n",
    "        \n",
    "fig.update_mapboxes(bearing=0, center = {\"lat\": 37.773972, \"lon\": -122.431297 }) # Centering the maps around SF\n",
    "fig.update_layout(margin=dict(l=0, r=0, t=40, b=10), height=400, width=800) # Adjusting the margins and dimensions\n",
    "fig.update_layout(mapbox1=dict(zoom=10.5, style='open-street-map')) # Choosing the zoom and style\n",
    "\n",
    "# Add dropdown\n",
    "fig.update_layout(\n",
    "    updatemenus=[\n",
    "        dict(\n",
    "            type=\"buttons\",\n",
    "            direction=\"down\",\n",
    "            buttons=list([\n",
    "                dict(label=\"Violent crimes\",\n",
    "                     method=\"update\",\n",
    "                     args=[{\"visible\": [True, False, False]},\n",
    "                           {\"title\": \"Violent crimes\"}]),\n",
    "                dict(label=\"Property crimes\",\n",
    "                     method=\"update\",\n",
    "                     args=[{\"visible\": [False, True, False]},\n",
    "                           {\"title\": \"Property crimes\",\n",
    "                            }]),\n",
    "                dict(label=\"Larceny/Theft\",\n",
    "                     method=\"update\",\n",
    "                     args=[{\"visible\": [False, False, True]},\n",
    "                           {\"title\": \"Larceny/Theft\",\n",
    "                            }]),\n",
    "            ]),\n",
    "        )\n",
    "    ])\n",
    "\n",
    "# save as html\n",
    "pio.write_html(fig, file='map.html', auto_open=True)\n"
   ]
  },
  {
   "attachments": {},
   "cell_type": "markdown",
   "metadata": {},
   "source": [
    "<a id='part4'></a>\n",
    "## Bokeh plot"
   ]
  },
  {
   "cell_type": "code",
   "execution_count": 66,
   "metadata": {},
   "outputs": [],
   "source": [
    "df_1 = df_violent_ori[df_violent_ori['PdDistrict'].isin(['TENDERLOIN', 'SOUTHERN', 'CENTRAL', 'NORTHERN'])]\n",
    "df_1 = df_violent_ori.pivot_table(index='HoW', columns='Category', values='PdId', aggfunc='count')\n",
    "df_1 = df_1.fillna(0)\n",
    "#df_1.reset_index(inplace=True)\n",
    "\n",
    "df_2 = df_property_ori[df_property_ori['PdDistrict'].isin(['TENDERLOIN', 'SOUTHERN', 'CENTRAL', 'NORTHERN'])]\n",
    "df_2 = df_property_ori.pivot_table(index='HoW', columns='Category', values='PdId', aggfunc='count')\n",
    "df_2 = df_2.fillna(0)\n",
    "#df_2.reset_index(inplace=True)"
   ]
  },
  {
   "cell_type": "code",
   "execution_count": 67,
   "metadata": {},
   "outputs": [
    {
     "data": {
      "text/html": [
       "\n",
       "\n",
       "\n",
       "\n",
       "\n",
       "\n",
       "  <div class=\"bk-root\" id=\"1984157e-5ce5-4d73-8c21-d8f0a5958c86\" data-root-id=\"22496\"></div>\n"
      ]
     },
     "metadata": {},
     "output_type": "display_data"
    },
    {
     "data": {
      "application/javascript": "(function(root) {\n  function embed_document(root) {\n    \n  const docs_json = {\"e34da7d7-8644-4481-8ec4-41833aa3df86\":{\"defs\":[],\"roots\":{\"references\":[{\"attributes\":{\"tabs\":[{\"id\":\"22430\"},{\"id\":\"22495\"}]},\"id\":\"22496\",\"type\":\"Tabs\"},{\"attributes\":{\"fill_alpha\":{\"value\":0.1},\"fill_color\":{\"value\":\"#008080\"},\"hatch_alpha\":{\"value\":0.1},\"line_alpha\":{\"value\":0.1},\"line_color\":{\"value\":\"#008080\"},\"top\":{\"field\":\"BURGLARY\"},\"x\":{\"field\":\"HoW\"}},\"id\":\"22465\",\"type\":\"VBar\"},{\"attributes\":{\"fill_color\":{\"value\":\"#DA70D6\"},\"line_color\":{\"value\":\"#DA70D6\"},\"top\":{\"field\":\"LARCENY/THEFT\"},\"x\":{\"field\":\"HoW\"}},\"id\":\"22470\",\"type\":\"VBar\"},{\"attributes\":{},\"id\":\"23220\",\"type\":\"AllLabels\"},{\"attributes\":{},\"id\":\"23216\",\"type\":\"BasicTickFormatter\"},{\"attributes\":{\"fill_alpha\":{\"value\":0.05},\"fill_color\":{\"value\":\"#008080\"},\"hatch_alpha\":{\"value\":0.05},\"line_alpha\":{\"value\":0.05},\"line_color\":{\"value\":\"#008080\"},\"top\":{\"field\":\"BURGLARY\"},\"x\":{\"field\":\"HoW\"}},\"id\":\"22466\",\"type\":\"VBar\"},{\"attributes\":{\"fill_alpha\":{\"value\":0.05},\"fill_color\":{\"value\":\"#DA70D6\"},\"hatch_alpha\":{\"value\":0.05},\"line_alpha\":{\"value\":0.05},\"line_color\":{\"value\":\"#DA70D6\"},\"top\":{\"field\":\"LARCENY/THEFT\"},\"x\":{\"field\":\"HoW\"}},\"id\":\"22472\",\"type\":\"VBar\"},{\"attributes\":{},\"id\":\"23217\",\"type\":\"AllLabels\"},{\"attributes\":{\"source\":{\"id\":\"22372\"}},\"id\":\"22468\",\"type\":\"CDSView\"},{\"attributes\":{\"coordinates\":null,\"data_source\":{\"id\":\"22372\"},\"glyph\":{\"id\":\"22464\"},\"group\":null,\"hover_glyph\":null,\"muted\":true,\"muted_glyph\":{\"id\":\"22466\"},\"nonselection_glyph\":{\"id\":\"22465\"},\"view\":{\"id\":\"22468\"}},\"id\":\"22467\",\"type\":\"GlyphRenderer\"},{\"attributes\":{\"interval\":24},\"id\":\"22427\",\"type\":\"SingleIntervalTicker\"},{\"attributes\":{\"coordinates\":null,\"group\":null,\"text\":\"Violent crimes throughout the week (Hour of Week (HoW))\"},\"id\":\"22375\",\"type\":\"Title\"},{\"attributes\":{\"fill_alpha\":{\"value\":0.1},\"fill_color\":{\"value\":\"#DA70D6\"},\"hatch_alpha\":{\"value\":0.1},\"line_alpha\":{\"value\":0.1},\"line_color\":{\"value\":\"#DA70D6\"},\"top\":{\"field\":\"LARCENY/THEFT\"},\"x\":{\"field\":\"HoW\"}},\"id\":\"22471\",\"type\":\"VBar\"},{\"attributes\":{},\"id\":\"23219\",\"type\":\"CategoricalTickFormatter\"},{\"attributes\":{\"fill_alpha\":{\"value\":0.05},\"fill_color\":{\"value\":\"#4B0082\"},\"hatch_alpha\":{\"value\":0.05},\"line_alpha\":{\"value\":0.05},\"line_color\":{\"value\":\"#4B0082\"},\"top\":{\"field\":\"VANDALISM\"},\"x\":{\"field\":\"HoW\"}},\"id\":\"22478\",\"type\":\"VBar\"},{\"attributes\":{\"tools\":[{\"id\":\"22391\"},{\"id\":\"22392\"},{\"id\":\"22393\"},{\"id\":\"22394\"},{\"id\":\"22395\"},{\"id\":\"22396\"}]},\"id\":\"22398\",\"type\":\"Toolbar\"},{\"attributes\":{\"source\":{\"id\":\"22372\"}},\"id\":\"22474\",\"type\":\"CDSView\"},{\"attributes\":{\"coordinates\":null,\"data_source\":{\"id\":\"22372\"},\"glyph\":{\"id\":\"22470\"},\"group\":null,\"hover_glyph\":null,\"muted_glyph\":{\"id\":\"22472\"},\"nonselection_glyph\":{\"id\":\"22471\"},\"view\":{\"id\":\"22474\"}},\"id\":\"22473\",\"type\":\"GlyphRenderer\"},{\"attributes\":{\"fill_alpha\":{\"value\":0.1},\"fill_color\":{\"value\":\"#4B0082\"},\"hatch_alpha\":{\"value\":0.1},\"line_alpha\":{\"value\":0.1},\"line_color\":{\"value\":\"#4B0082\"},\"top\":{\"field\":\"VANDALISM\"},\"x\":{\"field\":\"HoW\"}},\"id\":\"22477\",\"type\":\"VBar\"},{\"attributes\":{\"factors\":[\"1\",\"2\",\"3\",\"4\",\"5\",\"6\",\"7\",\"8\",\"9\",\"10\",\"11\",\"12\",\"13\",\"14\",\"15\",\"16\",\"17\",\"18\",\"19\",\"20\",\"21\",\"22\",\"23\",\"24\",\"25\",\"26\",\"27\",\"28\",\"29\",\"30\",\"31\",\"32\",\"33\",\"34\",\"35\",\"36\",\"37\",\"38\",\"39\",\"40\",\"41\",\"42\",\"43\",\"44\",\"45\",\"46\",\"47\",\"48\",\"49\",\"50\",\"51\",\"52\",\"53\",\"54\",\"55\",\"56\",\"57\",\"58\",\"59\",\"60\",\"61\",\"62\",\"63\",\"64\",\"65\",\"66\",\"67\",\"68\",\"69\",\"70\",\"71\",\"72\",\"73\",\"74\",\"75\",\"76\",\"77\",\"78\",\"79\",\"80\",\"81\",\"82\",\"83\",\"84\",\"85\",\"86\",\"87\",\"88\",\"89\",\"90\",\"91\",\"92\",\"93\",\"94\",\"95\",\"96\",\"97\",\"98\",\"99\",\"100\",\"101\",\"102\",\"103\",\"104\",\"105\",\"106\",\"107\",\"108\",\"109\",\"110\",\"111\",\"112\",\"113\",\"114\",\"115\",\"116\",\"117\",\"118\",\"119\",\"120\",\"121\",\"122\",\"123\",\"124\",\"125\",\"126\",\"127\",\"128\",\"129\",\"130\",\"131\",\"132\",\"133\",\"134\",\"135\",\"136\",\"137\",\"138\",\"139\",\"140\",\"141\",\"142\",\"143\",\"144\",\"145\",\"146\",\"147\",\"148\",\"149\",\"150\",\"151\",\"152\",\"153\",\"154\",\"155\",\"156\",\"157\",\"158\",\"159\",\"160\",\"161\",\"162\",\"163\",\"164\",\"165\",\"166\",\"167\",\"168\"]},\"id\":\"22373\",\"type\":\"FactorRange\"},{\"attributes\":{},\"id\":\"23221\",\"type\":\"BasicTickFormatter\"},{\"attributes\":{},\"id\":\"23225\",\"type\":\"AllLabels\"},{\"attributes\":{\"fill_color\":{\"value\":\"#4B0082\"},\"line_color\":{\"value\":\"#4B0082\"},\"top\":{\"field\":\"VANDALISM\"},\"x\":{\"field\":\"HoW\"}},\"id\":\"22476\",\"type\":\"VBar\"},{\"attributes\":{\"axis_label\":\"Hour of Week (HoW)\",\"coordinates\":null,\"formatter\":{\"id\":\"23221\"},\"group\":null,\"major_label_policy\":{\"id\":\"23222\"},\"ticker\":{\"id\":\"22427\"}},\"id\":\"22428\",\"type\":\"LinearAxis\"},{\"attributes\":{\"fill_alpha\":{\"value\":0.1},\"fill_color\":{\"value\":\"blue\"},\"hatch_alpha\":{\"value\":0.1},\"line_alpha\":{\"value\":0.1},\"line_color\":{\"value\":\"blue\"},\"top\":{\"field\":\"VEHICLE THEFT\"},\"x\":{\"field\":\"HoW\"}},\"id\":\"22483\",\"type\":\"VBar\"},{\"attributes\":{},\"id\":\"23222\",\"type\":\"AllLabels\"},{\"attributes\":{\"fill_color\":{\"value\":\"blue\"},\"line_color\":{\"value\":\"blue\"},\"top\":{\"field\":\"VEHICLE THEFT\"},\"x\":{\"field\":\"HoW\"}},\"id\":\"22482\",\"type\":\"VBar\"},{\"attributes\":{\"source\":{\"id\":\"22372\"}},\"id\":\"22480\",\"type\":\"CDSView\"},{\"attributes\":{\"coordinates\":null,\"data_source\":{\"id\":\"22372\"},\"glyph\":{\"id\":\"22476\"},\"group\":null,\"hover_glyph\":null,\"muted\":true,\"muted_glyph\":{\"id\":\"22478\"},\"nonselection_glyph\":{\"id\":\"22477\"},\"view\":{\"id\":\"22480\"}},\"id\":\"22479\",\"type\":\"GlyphRenderer\"},{\"attributes\":{\"bottom_units\":\"screen\",\"coordinates\":null,\"fill_alpha\":0.5,\"fill_color\":\"lightgrey\",\"group\":null,\"left_units\":\"screen\",\"level\":\"overlay\",\"line_alpha\":1.0,\"line_color\":\"black\",\"line_dash\":[4,4],\"line_width\":2,\"right_units\":\"screen\",\"syncable\":false,\"top_units\":\"screen\"},\"id\":\"22397\",\"type\":\"BoxAnnotation\"},{\"attributes\":{},\"id\":\"22388\",\"type\":\"BasicTicker\"},{\"attributes\":{\"fill_alpha\":{\"value\":0.05},\"fill_color\":{\"value\":\"blue\"},\"hatch_alpha\":{\"value\":0.05},\"line_alpha\":{\"value\":0.05},\"line_color\":{\"value\":\"blue\"},\"top\":{\"field\":\"VEHICLE THEFT\"},\"x\":{\"field\":\"HoW\"}},\"id\":\"22484\",\"type\":\"VBar\"},{\"attributes\":{},\"id\":\"23224\",\"type\":\"BasicTickFormatter\"},{\"attributes\":{\"label\":{\"value\":\"BURGLARY\"},\"renderers\":[{\"id\":\"22467\"}]},\"id\":\"22488\",\"type\":\"LegendItem\"},{\"attributes\":{\"source\":{\"id\":\"22372\"}},\"id\":\"22486\",\"type\":\"CDSView\"},{\"attributes\":{\"coordinates\":null,\"data_source\":{\"id\":\"22372\"},\"glyph\":{\"id\":\"22482\"},\"group\":null,\"hover_glyph\":null,\"muted\":true,\"muted_glyph\":{\"id\":\"22484\"},\"nonselection_glyph\":{\"id\":\"22483\"},\"view\":{\"id\":\"22486\"}},\"id\":\"22485\",\"type\":\"GlyphRenderer\"},{\"attributes\":{},\"id\":\"22396\",\"type\":\"HelpTool\"},{\"attributes\":{},\"id\":\"22385\",\"type\":\"CategoricalTicker\"},{\"attributes\":{},\"id\":\"22391\",\"type\":\"PanTool\"},{\"attributes\":{\"label\":{\"value\":\"LARCENY/THEFT\"},\"renderers\":[{\"id\":\"22473\"}]},\"id\":\"22489\",\"type\":\"LegendItem\"},{\"attributes\":{\"overlay\":{\"id\":\"22397\"}},\"id\":\"22393\",\"type\":\"BoxZoomTool\"},{\"attributes\":{\"tools\":[{\"id\":\"22449\"},{\"id\":\"22450\"},{\"id\":\"22451\"},{\"id\":\"22452\"},{\"id\":\"22453\"},{\"id\":\"22454\"}]},\"id\":\"22456\",\"type\":\"Toolbar\"},{\"attributes\":{\"axis\":{\"id\":\"22387\"},\"coordinates\":null,\"dimension\":1,\"group\":null,\"ticker\":null},\"id\":\"22390\",\"type\":\"Grid\"},{\"attributes\":{},\"id\":\"22395\",\"type\":\"ResetTool\"},{\"attributes\":{\"label\":{\"value\":\"VANDALISM\"},\"renderers\":[{\"id\":\"22479\"}]},\"id\":\"22490\",\"type\":\"LegendItem\"},{\"attributes\":{\"below\":[{\"id\":\"22384\"},{\"id\":\"22428\"}],\"center\":[{\"id\":\"22386\"},{\"id\":\"22390\"}],\"height\":400,\"left\":[{\"id\":\"22387\"}],\"renderers\":[{\"id\":\"22409\"},{\"id\":\"22415\"},{\"id\":\"22421\"}],\"right\":[{\"id\":\"22423\"}],\"title\":{\"id\":\"22375\"},\"toolbar\":{\"id\":\"22398\"},\"width\":800,\"x_range\":{\"id\":\"22373\"},\"x_scale\":{\"id\":\"22380\"},\"y_range\":{\"id\":\"22378\"},\"y_scale\":{\"id\":\"22382\"}},\"id\":\"22374\",\"subtype\":\"Figure\",\"type\":\"Plot\"},{\"attributes\":{\"axis_label\":\"Hour of Week (HoW)\",\"coordinates\":null,\"formatter\":{\"id\":\"23219\"},\"group\":null,\"major_label_policy\":{\"id\":\"23220\"},\"ticker\":{\"id\":\"22385\"},\"visible\":false},\"id\":\"22384\",\"type\":\"CategoricalAxis\"},{\"attributes\":{\"label\":{\"value\":\"VEHICLE THEFT\"},\"renderers\":[{\"id\":\"22485\"}]},\"id\":\"22491\",\"type\":\"LegendItem\"},{\"attributes\":{\"axis\":{\"id\":\"22384\"},\"coordinates\":null,\"group\":null,\"ticker\":null},\"id\":\"22386\",\"type\":\"Grid\"},{\"attributes\":{\"child\":{\"id\":\"22432\"},\"title\":\"Property Crimes\"},\"id\":\"22495\",\"type\":\"Panel\"},{\"attributes\":{\"axis_label\":\"Count\",\"coordinates\":null,\"formatter\":{\"id\":\"23216\"},\"group\":null,\"major_label_policy\":{\"id\":\"23217\"},\"ticker\":{\"id\":\"22388\"}},\"id\":\"22387\",\"type\":\"LinearAxis\"},{\"attributes\":{\"fill_color\":{\"value\":\"#008080\"},\"line_color\":{\"value\":\"#008080\"},\"top\":{\"field\":\"ASSAULT\"},\"x\":{\"field\":\"HoW\"}},\"id\":\"22406\",\"type\":\"VBar\"},{\"attributes\":{},\"id\":\"22392\",\"type\":\"WheelZoomTool\"},{\"attributes\":{},\"id\":\"22380\",\"type\":\"CategoricalScale\"},{\"attributes\":{\"data\":{\"BURGLARY\":[505,286,347,360,325,288,285,498,781,672,554,523,743,457,488,530,605,770,858,688,550,577,534,482,432,298,359,327,280,268,298,541,820,713,640,525,645,454,453,531,644,839,902,664,624,561,512,467,481,289,326,339,309,271,299,546,885,685,604,550,699,530,512,577,579,844,892,661,607,566,531,486,452,309,289,363,301,264,312,563,795,704,598,578,699,492,483,559,667,907,872,703,593,610,552,490,495,318,333,313,306,273,320,520,815,727,633,573,765,490,632,796,942,1399,1326,864,638,606,572,516,521,341,370,341,326,280,234,207,342,359,461,486,757,418,552,646,663,754,753,587,554,561,532,565,500,345,334,369,296,310,220,222,357,330,403,440,630,417,422,512,522,688,637,502,517,476,507,507],\"HoW\":[1,2,3,4,5,6,7,8,9,10,11,12,13,14,15,16,17,18,19,20,21,22,23,24,25,26,27,28,29,30,31,32,33,34,35,36,37,38,39,40,41,42,43,44,45,46,47,48,49,50,51,52,53,54,55,56,57,58,59,60,61,62,63,64,65,66,67,68,69,70,71,72,73,74,75,76,77,78,79,80,81,82,83,84,85,86,87,88,89,90,91,92,93,94,95,96,97,98,99,100,101,102,103,104,105,106,107,108,109,110,111,112,113,114,115,116,117,118,119,120,121,122,123,124,125,126,127,128,129,130,131,132,133,134,135,136,137,138,139,140,141,142,143,144,145,146,147,148,149,150,151,152,153,154,155,156,157,158,159,160,161,162,163,164,165,166,167,168],\"LARCENY/THEFT\":[2122,1145,825,580,421,466,727,1238,2029,2327,2687,2795,3714,3223,3258,3339,3643,4339,5394,4913,4225,3362,2884,2304,1988,1038,744,521,360,435,741,1240,2039,2242,2679,2922,3563,3187,3273,3448,3822,4435,5666,5376,4482,3643,3215,2538,2112,1151,729,533,416,429,769,1206,2098,2349,2695,2837,3800,3236,3347,3647,3885,4400,5712,5405,4562,3672,3282,2648,2150,1150,817,538,397,445,737,1202,1994,2319,2691,2906,3783,3188,3436,3665,3651,4385,5519,5451,4585,3819,3543,3033,2638,1524,1009,661,425,445,727,1211,1992,2290,2843,3011,3930,3584,3584,3936,4184,5051,5835,5357,4650,4166,4518,4696,3708,2567,1567,846,519,428,524,780,1414,1958,2809,3190,4037,3659,3894,4143,4158,4321,4781,4511,4338,4026,4700,5231,3850,2906,1814,1009,504,412,604,737,1265,1742,2574,3164,3968,3632,3767,3918,3915,4154,4241,3837,3536,3009,3093,2457],\"VANDALISM\":[831,494,458,355,225,189,286,397,566,509,431,448,605,449,539,571,656,941,1168,1036,958,984,918,823,791,492,415,304,244,206,277,387,555,503,466,409,573,426,495,614,641,851,1093,1044,1017,992,971,822,748,480,455,319,232,206,275,377,573,468,511,443,609,467,521,625,658,958,1143,1049,958,1011,988,845,743,542,486,325,263,221,226,370,519,499,508,393,570,450,459,589,677,902,1137,1025,1007,1022,961,934,888,625,584,350,239,232,252,372,542,525,502,499,643,467,594,745,875,1243,1463,1199,1210,1171,1343,1263,1165,874,888,568,341,246,247,283,425,407,508,506,675,564,655,733,813,1007,1135,1055,1165,1222,1365,1359,1186,944,924,598,335,263,242,258,363,404,508,532,759,561,608,689,753,885,999,920,985,1058,1062,893],\"VEHICLE THEFT\":[589,380,279,190,149,200,269,525,752,658,638,500,709,533,585,702,874,1181,1422,1207,1273,1242,1239,966,508,332,310,193,151,182,239,516,744,686,548,504,750,485,559,630,843,1095,1444,1382,1362,1170,1238,1050,577,395,253,150,155,194,291,529,736,665,615,514,710,524,655,713,875,1186,1535,1319,1323,1231,1298,1049,574,400,279,198,160,158,298,498,714,632,545,486,736,492,615,706,872,1125,1394,1295,1355,1340,1346,1137,659,436,350,192,175,161,305,503,663,715,598,514,812,558,637,857,1071,1520,1781,1481,1472,1418,1528,1433,833,660,533,317,197,167,213,263,457,511,590,577,878,630,746,856,940,1117,1255,1137,1300,1353,1547,1560,955,603,537,332,228,155,188,271,372,484,547,567,792,607,692,833,810,1126,1340,1110,1269,1249,1299,1087]},\"selected\":{\"id\":\"23235\"},\"selection_policy\":{\"id\":\"23234\"}},\"id\":\"22372\",\"type\":\"ColumnDataSource\"},{\"attributes\":{},\"id\":\"22378\",\"type\":\"DataRange1d\"},{\"attributes\":{},\"id\":\"22394\",\"type\":\"SaveTool\"},{\"attributes\":{\"data\":{\"ASSAULT\":[1112,808,771,372,269,230,319,520,859,880,986,1051,1259,1095,1128,1329,1229,1284,1278,1215,1137,1110,1010,952,993,674,634,370,274,199,355,520,814,928,1037,1042,1370,1164,1107,1299,1273,1230,1231,1176,1134,1204,1052,921,991,701,595,352,267,239,388,569,880,959,1021,1061,1268,1158,1230,1329,1294,1314,1219,1153,1088,1157,1032,963,994,772,675,353,265,253,363,571,861,888,999,1014,1275,1128,1100,1224,1206,1202,1168,1114,1063,1101,1112,960,1257,963,828,443,241,242,319,529,797,976,1000,1072,1313,1149,1157,1328,1344,1260,1235,1194,1223,1275,1310,1448,1729,1974,1747,780,438,305,314,414,645,713,906,987,1178,1001,1117,1117,1155,1203,1286,1196,1256,1358,1389,1478,1802,2182,2008,887,462,286,333,400,569,690,792,907,1165,1068,1043,1183,1225,1259,1217,1296,1238,1264,1165,1035],\"HoW\":[1,2,3,4,5,6,7,8,9,10,11,12,13,14,15,16,17,18,19,20,21,22,23,24,25,26,27,28,29,30,31,32,33,34,35,36,37,38,39,40,41,42,43,44,45,46,47,48,49,50,51,52,53,54,55,56,57,58,59,60,61,62,63,64,65,66,67,68,69,70,71,72,73,74,75,76,77,78,79,80,81,82,83,84,85,86,87,88,89,90,91,92,93,94,95,96,97,98,99,100,101,102,103,104,105,106,107,108,109,110,111,112,113,114,115,116,117,118,119,120,121,122,123,124,125,126,127,128,129,130,131,132,133,134,135,136,137,138,139,140,141,142,143,144,145,146,147,148,149,150,151,152,153,154,155,156,157,158,159,160,161,162,163,164,165,166,167,168],\"ROBBERY\":[371,342,340,195,152,168,135,111,158,195,196,206,279,316,320,343,423,434,418,428,492,569,528,489,388,354,293,213,124,118,133,110,144,189,217,238,256,287,300,385,396,380,426,435,471,538,543,469,365,324,338,195,137,139,154,134,154,150,238,263,263,322,323,365,382,377,383,414,501,529,536,462,342,375,368,218,163,137,145,148,164,201,191,224,293,292,314,357,377,352,349,447,449,553,511,435,387,377,395,198,147,106,139,148,153,197,211,232,278,294,312,357,373,346,405,438,484,538,578,562,541,604,722,420,250,192,134,119,124,150,195,204,239,237,249,257,287,335,410,377,424,542,504,558,514,611,673,449,252,196,171,135,116,137,140,189,241,225,268,264,328,335,313,375,451,464,495,478],\"SEX OFFENSES, FORCIBLE\":[109,57,69,30,20,20,16,36,70,42,29,46,55,36,48,61,51,76,53,47,63,49,49,66,103,48,52,25,15,19,22,14,48,44,43,36,71,44,51,47,55,29,55,42,47,58,61,51,86,53,55,30,16,20,18,14,49,49,33,31,46,44,49,49,46,46,46,47,58,57,53,63,127,46,43,24,27,14,17,22,54,26,32,31,65,35,38,51,50,44,57,43,68,61,64,67,100,85,83,38,27,14,11,26,31,44,48,31,56,44,39,43,42,47,44,51,70,70,91,99,138,113,117,85,50,31,16,19,14,26,24,33,55,40,33,52,52,69,60,62,65,67,72,99,168,129,122,121,42,29,24,20,26,24,20,26,48,34,45,51,46,51,33,51,68,66,85,74]},\"selected\":{\"id\":\"23232\"},\"selection_policy\":{\"id\":\"23231\"}},\"id\":\"22371\",\"type\":\"ColumnDataSource\"},{\"attributes\":{},\"id\":\"22382\",\"type\":\"LinearScale\"},{\"attributes\":{},\"id\":\"23229\",\"type\":\"BasicTickFormatter\"},{\"attributes\":{},\"id\":\"23230\",\"type\":\"AllLabels\"},{\"attributes\":{\"click_policy\":\"mute\",\"coordinates\":null,\"group\":null,\"items\":[{\"id\":\"22424\"},{\"id\":\"22425\"},{\"id\":\"22426\"}],\"label_text_font_size\":\"8pt\",\"location\":[10,50]},\"id\":\"22423\",\"type\":\"Legend\"},{\"attributes\":{},\"id\":\"23227\",\"type\":\"CategoricalTickFormatter\"},{\"attributes\":{},\"id\":\"23231\",\"type\":\"UnionRenderers\"},{\"attributes\":{\"fill_alpha\":{\"value\":0.1},\"fill_color\":{\"value\":\"#008080\"},\"hatch_alpha\":{\"value\":0.1},\"line_alpha\":{\"value\":0.1},\"line_color\":{\"value\":\"#008080\"},\"top\":{\"field\":\"ASSAULT\"},\"x\":{\"field\":\"HoW\"}},\"id\":\"22407\",\"type\":\"VBar\"},{\"attributes\":{},\"id\":\"23232\",\"type\":\"Selection\"},{\"attributes\":{},\"id\":\"23234\",\"type\":\"UnionRenderers\"},{\"attributes\":{},\"id\":\"23235\",\"type\":\"Selection\"},{\"attributes\":{\"fill_alpha\":{\"value\":0.05},\"fill_color\":{\"value\":\"#008080\"},\"hatch_alpha\":{\"value\":0.05},\"line_alpha\":{\"value\":0.05},\"line_color\":{\"value\":\"#008080\"},\"top\":{\"field\":\"ASSAULT\"},\"x\":{\"field\":\"HoW\"}},\"id\":\"22408\",\"type\":\"VBar\"},{\"attributes\":{\"source\":{\"id\":\"22371\"}},\"id\":\"22410\",\"type\":\"CDSView\"},{\"attributes\":{\"coordinates\":null,\"data_source\":{\"id\":\"22371\"},\"glyph\":{\"id\":\"22406\"},\"group\":null,\"hover_glyph\":null,\"muted_glyph\":{\"id\":\"22408\"},\"nonselection_glyph\":{\"id\":\"22407\"},\"view\":{\"id\":\"22410\"}},\"id\":\"22409\",\"type\":\"GlyphRenderer\"},{\"attributes\":{\"fill_color\":{\"value\":\"#DA70D6\"},\"line_color\":{\"value\":\"#DA70D6\"},\"top\":{\"field\":\"ROBBERY\"},\"x\":{\"field\":\"HoW\"}},\"id\":\"22412\",\"type\":\"VBar\"},{\"attributes\":{\"fill_alpha\":{\"value\":0.1},\"fill_color\":{\"value\":\"#DA70D6\"},\"hatch_alpha\":{\"value\":0.1},\"line_alpha\":{\"value\":0.1},\"line_color\":{\"value\":\"#DA70D6\"},\"top\":{\"field\":\"ROBBERY\"},\"x\":{\"field\":\"HoW\"}},\"id\":\"22413\",\"type\":\"VBar\"},{\"attributes\":{\"fill_alpha\":{\"value\":0.05},\"fill_color\":{\"value\":\"#DA70D6\"},\"hatch_alpha\":{\"value\":0.05},\"line_alpha\":{\"value\":0.05},\"line_color\":{\"value\":\"#DA70D6\"},\"top\":{\"field\":\"ROBBERY\"},\"x\":{\"field\":\"HoW\"}},\"id\":\"22414\",\"type\":\"VBar\"},{\"attributes\":{\"fill_alpha\":{\"value\":0.1},\"fill_color\":{\"value\":\"#4B0082\"},\"hatch_alpha\":{\"value\":0.1},\"line_alpha\":{\"value\":0.1},\"line_color\":{\"value\":\"#4B0082\"},\"top\":{\"field\":\"SEX OFFENSES, FORCIBLE\"},\"x\":{\"field\":\"HoW\"}},\"id\":\"22419\",\"type\":\"VBar\"},{\"attributes\":{\"fill_color\":{\"value\":\"#4B0082\"},\"line_color\":{\"value\":\"#4B0082\"},\"top\":{\"field\":\"SEX OFFENSES, FORCIBLE\"},\"x\":{\"field\":\"HoW\"}},\"id\":\"22418\",\"type\":\"VBar\"},{\"attributes\":{\"source\":{\"id\":\"22371\"}},\"id\":\"22416\",\"type\":\"CDSView\"},{\"attributes\":{\"coordinates\":null,\"data_source\":{\"id\":\"22371\"},\"glyph\":{\"id\":\"22412\"},\"group\":null,\"hover_glyph\":null,\"muted\":true,\"muted_glyph\":{\"id\":\"22414\"},\"nonselection_glyph\":{\"id\":\"22413\"},\"view\":{\"id\":\"22416\"}},\"id\":\"22415\",\"type\":\"GlyphRenderer\"},{\"attributes\":{\"fill_alpha\":{\"value\":0.05},\"fill_color\":{\"value\":\"#4B0082\"},\"hatch_alpha\":{\"value\":0.05},\"line_alpha\":{\"value\":0.05},\"line_color\":{\"value\":\"#4B0082\"},\"top\":{\"field\":\"SEX OFFENSES, FORCIBLE\"},\"x\":{\"field\":\"HoW\"}},\"id\":\"22420\",\"type\":\"VBar\"},{\"attributes\":{},\"id\":\"23228\",\"type\":\"AllLabels\"},{\"attributes\":{\"label\":{\"value\":\"ASSAULT\"},\"renderers\":[{\"id\":\"22409\"}]},\"id\":\"22424\",\"type\":\"LegendItem\"},{\"attributes\":{\"source\":{\"id\":\"22371\"}},\"id\":\"22422\",\"type\":\"CDSView\"},{\"attributes\":{\"coordinates\":null,\"data_source\":{\"id\":\"22371\"},\"glyph\":{\"id\":\"22418\"},\"group\":null,\"hover_glyph\":null,\"muted\":true,\"muted_glyph\":{\"id\":\"22420\"},\"nonselection_glyph\":{\"id\":\"22419\"},\"view\":{\"id\":\"22422\"}},\"id\":\"22421\",\"type\":\"GlyphRenderer\"},{\"attributes\":{\"coordinates\":null,\"group\":null,\"text\":\"Property crimes throughout the week (Hour of Week (HoW))\"},\"id\":\"22433\",\"type\":\"Title\"},{\"attributes\":{\"interval\":24},\"id\":\"22492\",\"type\":\"SingleIntervalTicker\"},{\"attributes\":{\"label\":{\"value\":\"ROBBERY\"},\"renderers\":[{\"id\":\"22415\"}]},\"id\":\"22425\",\"type\":\"LegendItem\"},{\"attributes\":{\"label\":{\"value\":\"SEX OFFENSES, FORCIBLE\"},\"renderers\":[{\"id\":\"22421\"}]},\"id\":\"22426\",\"type\":\"LegendItem\"},{\"attributes\":{\"click_policy\":\"mute\",\"coordinates\":null,\"group\":null,\"items\":[{\"id\":\"22488\"},{\"id\":\"22489\"},{\"id\":\"22490\"},{\"id\":\"22491\"}],\"label_text_font_size\":\"8pt\",\"location\":[10,50]},\"id\":\"22487\",\"type\":\"Legend\"},{\"attributes\":{\"child\":{\"id\":\"22374\"},\"title\":\"Violent Crimes\"},\"id\":\"22430\",\"type\":\"Panel\"},{\"attributes\":{\"factors\":[\"1\",\"2\",\"3\",\"4\",\"5\",\"6\",\"7\",\"8\",\"9\",\"10\",\"11\",\"12\",\"13\",\"14\",\"15\",\"16\",\"17\",\"18\",\"19\",\"20\",\"21\",\"22\",\"23\",\"24\",\"25\",\"26\",\"27\",\"28\",\"29\",\"30\",\"31\",\"32\",\"33\",\"34\",\"35\",\"36\",\"37\",\"38\",\"39\",\"40\",\"41\",\"42\",\"43\",\"44\",\"45\",\"46\",\"47\",\"48\",\"49\",\"50\",\"51\",\"52\",\"53\",\"54\",\"55\",\"56\",\"57\",\"58\",\"59\",\"60\",\"61\",\"62\",\"63\",\"64\",\"65\",\"66\",\"67\",\"68\",\"69\",\"70\",\"71\",\"72\",\"73\",\"74\",\"75\",\"76\",\"77\",\"78\",\"79\",\"80\",\"81\",\"82\",\"83\",\"84\",\"85\",\"86\",\"87\",\"88\",\"89\",\"90\",\"91\",\"92\",\"93\",\"94\",\"95\",\"96\",\"97\",\"98\",\"99\",\"100\",\"101\",\"102\",\"103\",\"104\",\"105\",\"106\",\"107\",\"108\",\"109\",\"110\",\"111\",\"112\",\"113\",\"114\",\"115\",\"116\",\"117\",\"118\",\"119\",\"120\",\"121\",\"122\",\"123\",\"124\",\"125\",\"126\",\"127\",\"128\",\"129\",\"130\",\"131\",\"132\",\"133\",\"134\",\"135\",\"136\",\"137\",\"138\",\"139\",\"140\",\"141\",\"142\",\"143\",\"144\",\"145\",\"146\",\"147\",\"148\",\"149\",\"150\",\"151\",\"152\",\"153\",\"154\",\"155\",\"156\",\"157\",\"158\",\"159\",\"160\",\"161\",\"162\",\"163\",\"164\",\"165\",\"166\",\"167\",\"168\"]},\"id\":\"22431\",\"type\":\"FactorRange\"},{\"attributes\":{\"below\":[{\"id\":\"22442\"},{\"id\":\"22493\"}],\"center\":[{\"id\":\"22444\"},{\"id\":\"22448\"}],\"height\":400,\"left\":[{\"id\":\"22445\"}],\"renderers\":[{\"id\":\"22467\"},{\"id\":\"22473\"},{\"id\":\"22479\"},{\"id\":\"22485\"}],\"right\":[{\"id\":\"22487\"}],\"title\":{\"id\":\"22433\"},\"toolbar\":{\"id\":\"22456\"},\"width\":800,\"x_range\":{\"id\":\"22431\"},\"x_scale\":{\"id\":\"22438\"},\"y_range\":{\"id\":\"22436\"},\"y_scale\":{\"id\":\"22440\"}},\"id\":\"22432\",\"subtype\":\"Figure\",\"type\":\"Plot\"},{\"attributes\":{\"axis_label\":\"Hour of Week (HoW)\",\"coordinates\":null,\"formatter\":{\"id\":\"23229\"},\"group\":null,\"major_label_policy\":{\"id\":\"23230\"},\"ticker\":{\"id\":\"22492\"}},\"id\":\"22493\",\"type\":\"LinearAxis\"},{\"attributes\":{\"fill_color\":{\"value\":\"#008080\"},\"line_color\":{\"value\":\"#008080\"},\"top\":{\"field\":\"BURGLARY\"},\"x\":{\"field\":\"HoW\"}},\"id\":\"22464\",\"type\":\"VBar\"},{\"attributes\":{},\"id\":\"22436\",\"type\":\"DataRange1d\"},{\"attributes\":{},\"id\":\"22438\",\"type\":\"CategoricalScale\"},{\"attributes\":{\"axis\":{\"id\":\"22442\"},\"coordinates\":null,\"group\":null,\"ticker\":null},\"id\":\"22444\",\"type\":\"Grid\"},{\"attributes\":{\"axis_label\":\"Hour of Week (HoW)\",\"coordinates\":null,\"formatter\":{\"id\":\"23227\"},\"group\":null,\"major_label_policy\":{\"id\":\"23228\"},\"ticker\":{\"id\":\"22443\"},\"visible\":false},\"id\":\"22442\",\"type\":\"CategoricalAxis\"},{\"attributes\":{},\"id\":\"22440\",\"type\":\"LinearScale\"},{\"attributes\":{},\"id\":\"22443\",\"type\":\"CategoricalTicker\"},{\"attributes\":{},\"id\":\"22450\",\"type\":\"WheelZoomTool\"},{\"attributes\":{\"axis_label\":\"Count\",\"coordinates\":null,\"formatter\":{\"id\":\"23224\"},\"group\":null,\"major_label_policy\":{\"id\":\"23225\"},\"ticker\":{\"id\":\"22446\"}},\"id\":\"22445\",\"type\":\"LinearAxis\"},{\"attributes\":{\"axis\":{\"id\":\"22445\"},\"coordinates\":null,\"dimension\":1,\"group\":null,\"ticker\":null},\"id\":\"22448\",\"type\":\"Grid\"},{\"attributes\":{},\"id\":\"22446\",\"type\":\"BasicTicker\"},{\"attributes\":{},\"id\":\"22454\",\"type\":\"HelpTool\"},{\"attributes\":{},\"id\":\"22449\",\"type\":\"PanTool\"},{\"attributes\":{\"overlay\":{\"id\":\"22455\"}},\"id\":\"22451\",\"type\":\"BoxZoomTool\"},{\"attributes\":{},\"id\":\"22452\",\"type\":\"SaveTool\"},{\"attributes\":{},\"id\":\"22453\",\"type\":\"ResetTool\"},{\"attributes\":{\"bottom_units\":\"screen\",\"coordinates\":null,\"fill_alpha\":0.5,\"fill_color\":\"lightgrey\",\"group\":null,\"left_units\":\"screen\",\"level\":\"overlay\",\"line_alpha\":1.0,\"line_color\":\"black\",\"line_dash\":[4,4],\"line_width\":2,\"right_units\":\"screen\",\"syncable\":false,\"top_units\":\"screen\"},\"id\":\"22455\",\"type\":\"BoxAnnotation\"}],\"root_ids\":[\"22496\"]},\"title\":\"Bokeh Application\",\"version\":\"2.4.2\"}};\n  const render_items = [{\"docid\":\"e34da7d7-8644-4481-8ec4-41833aa3df86\",\"root_ids\":[\"22496\"],\"roots\":{\"22496\":\"1984157e-5ce5-4d73-8c21-d8f0a5958c86\"}}];\n  root.Bokeh.embed.embed_items_notebook(docs_json, render_items);\n\n  }\n  if (root.Bokeh !== undefined) {\n    embed_document(root);\n  } else {\n    let attempts = 0;\n    const timer = setInterval(function(root) {\n      if (root.Bokeh !== undefined) {\n        clearInterval(timer);\n        embed_document(root);\n      } else {\n        attempts++;\n        if (attempts > 100) {\n          clearInterval(timer);\n          console.log(\"Bokeh: ERROR: Unable to run BokehJS code because BokehJS library is missing\");\n        }\n      }\n    }, 10, root)\n  }\n})(window);",
      "application/vnd.bokehjs_exec.v0+json": ""
     },
     "metadata": {
      "application/vnd.bokehjs_exec.v0+json": {
       "id": "22496"
      }
     },
     "output_type": "display_data"
    }
   ],
   "source": [
    "source1 = ColumnDataSource(df_1)\n",
    "source2 = ColumnDataSource(df_2)\n",
    "\n",
    "hours = list(df_1.index)\n",
    "hours = list(map(str, hours))\n",
    "\n",
    "\n",
    "#### Plot 1 - violent crimes ####\n",
    "p1 = figure(title = \"Violent crimes throughout the week (Hour of Week (HoW))\", width = 800, height = 400, x_range = FactorRange(factors=hours), x_axis_label=\"HoW\",\n",
    "    y_axis_label=\"Count\")\n",
    "\n",
    "p1.xaxis.visible = False\n",
    "\n",
    "bar ={} # to store vbars\n",
    "items = [] ### for the custom legend // you need to figure out where to add it\n",
    "### here we will do a for loop:\n",
    "for indx,i in enumerate(df_1):\n",
    "    bar[i] = p1.vbar(x='HoW',  top=i, source= source1, \n",
    "                    ### we will create a vbar for each focuscrime\n",
    "                    muted_alpha=0.05, muted = (i!='ASSAULT'),\n",
    "                    fill_color = colors_list[indx], line_color = colors_list[indx]) \n",
    "    items.append((i, [bar[i]])) ### figure where to add it\n",
    "    \n",
    "legend = Legend(items=items, location=(10, 50)) ## figure where to add it\n",
    "p1.add_layout(legend, 'right') ## figure where to add it\n",
    "p1.legend.click_policy=\"mute\" ### assigns the click policy (you can try to use ''hide'\n",
    "ticker = SingleIntervalTicker(interval=24)\n",
    "xaxis = LinearAxis(ticker=ticker)\n",
    "p1.add_layout(xaxis, 'below')\n",
    "p1.xaxis.axis_label = \"Hour of Week (HoW)\"\n",
    "p1.legend.label_text_font_size = \"8pt\"\n",
    "tab1 = Panel(child=p1, title=\"Violent Crimes\")\n",
    "\n",
    "#### Plot 2 - Property crimes ####\n",
    "p2 = figure(title = \"Property crimes throughout the week (Hour of Week (HoW))\", width = 800, height = 400, x_range = FactorRange(factors=hours), x_axis_label=\"HoW\",\n",
    "    y_axis_label=\"Count\")\n",
    "\n",
    "p2.xaxis.visible = False\n",
    "\n",
    "bar ={} # to store vbars\n",
    "items = [] ### for the custom legend // you need to figure out where to add it\n",
    "### here we will do a for loop:\n",
    "for indx,i in enumerate(df_2):\n",
    "    bar[i] = p2.vbar(x='HoW',  top=i, source= source2, \n",
    "                    ### we will create a vbar for each focuscrime\n",
    "                    muted_alpha=0.05, muted = (i!='LARCENY/THEFT'),\n",
    "                    fill_color = colors_list[indx], line_color = colors_list[indx]) \n",
    "    items.append((i, [bar[i]])) ### figure where to add it\n",
    "    \n",
    "legend = Legend(items=items, location=(10, 50)) ## figure where to add it\n",
    "p2.add_layout(legend, 'right') ## figure where to add it\n",
    "p2.legend.click_policy=\"mute\" ### assigns the click policy (you can try to use ''hide'\n",
    "ticker = SingleIntervalTicker(interval=24)\n",
    "xaxis = LinearAxis(ticker=ticker)\n",
    "p2.add_layout(xaxis, 'below')\n",
    "p2.xaxis.axis_label = \"Hour of Week (HoW)\"\n",
    "p2.legend.label_text_font_size = \"8pt\"\n",
    "tab2 = Panel(child=p2, title=\"Property Crimes\")\n",
    "\n",
    "tabs = Tabs(tabs=[ tab1, tab2 ])\n",
    "\n",
    "show(tabs)\n",
    "\n",
    "output_file(\"plot3.html\")\n",
    "#save(p)\n",
    "#show(p) #displays your plot"
   ]
  },
  {
   "cell_type": "code",
   "execution_count": null,
   "metadata": {},
   "outputs": [],
   "source": []
  }
 ],
 "metadata": {
  "kernelspec": {
   "display_name": "Python 3 (ipykernel)",
   "language": "python",
   "name": "python3"
  },
  "language_info": {
   "codemirror_mode": {
    "name": "ipython",
    "version": 3
   },
   "file_extension": ".py",
   "mimetype": "text/x-python",
   "name": "python",
   "nbconvert_exporter": "python",
   "pygments_lexer": "ipython3",
   "version": "3.8.8"
  }
 },
 "nbformat": 4,
 "nbformat_minor": 4
}
